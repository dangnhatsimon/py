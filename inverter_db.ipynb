{
 "cells": [
  {
   "cell_type": "code",
   "execution_count": 1,
   "id": "1821fd8f",
   "metadata": {},
   "outputs": [],
   "source": [
    "# import libraries\n",
    "import pyodbc \n",
    "# from datetime import datetime, timedelta\n",
    "# import pandas as pd\n",
    "# from string import ascii_lowercase as alc"
   ]
  },
  {
   "cell_type": "code",
   "execution_count": 2,
   "id": "1c6b0105",
   "metadata": {},
   "outputs": [],
   "source": [
    "# Define your connection parameters\n",
    "SERVER =  'DCC-DE01\\DCC' # Change server if need\n",
    "DATABASE = 'inverter_db' # Change database name that need to create\n",
    "USERNAME = 'DCC-DE01\\DCC'\n",
    "PASSWORD = ''\n",
    "TRUSTED = 'no' # for Trusted_Connection if 'yes' SQL Server using the Windows credentials, if 'no' SQL Server Authentication\n",
    "ENCRYPT = 'no' # for Encrypt"
   ]
  },
  {
   "cell_type": "code",
   "execution_count": 3,
   "id": "f8704974",
   "metadata": {},
   "outputs": [],
   "source": [
    "# Create a connection to the database with Windows authentication\n",
    "connectionString = f'DRIVER={{ODBC Driver 18 for SQL Server}};SERVER={SERVER};Trusted_Connection={TRUSTED};Encrypt={ENCRYPT};UID={USERNAME};PWD={PASSWORD};Integrated Security=SSPI;'\n",
    "conn = pyodbc.connect(connectionString,autocommit=True)\n",
    "cursor = conn.cursor()"
   ]
  },
  {
   "cell_type": "code",
   "execution_count": null,
   "id": "465e74b2",
   "metadata": {},
   "outputs": [],
   "source": [
    "# Switch to using the newly created database\n",
    "cursor.execute(\"USE master;\")\n",
    "conn.commit()"
   ]
  },
  {
   "cell_type": "code",
   "execution_count": null,
   "id": "20b124ea",
   "metadata": {},
   "outputs": [],
   "source": [
    "# Check if the database exists\n",
    "check_db_query = f\"SELECT name FROM master.dbo.sysdatabases WHERE name = '{DATABASE}'\"\n",
    "cursor.execute(check_db_query)\n",
    "existing_database = cursor.fetchone()\n",
    "\n",
    "if existing_database is not None:\n",
    "    # If the 'existing_database' variable is not None, the database exists\n",
    "    # Drop the database\n",
    "    drop_db_query = f\"DROP DATABASE {DATABASE};\"\n",
    "    cursor.execute(drop_db_query)\n",
    "    conn.commit()\n",
    "    print(f\"Database '{DATABASE}' has been dropped.\")"
   ]
  },
  {
   "cell_type": "code",
   "execution_count": null,
   "id": "3cfa8395",
   "metadata": {},
   "outputs": [],
   "source": [
    "# Create a SQL query to create the new database outside of the transaction\n",
    "create_db_query = f\"CREATE DATABASE {DATABASE};\"\n",
    "cursor.execute(create_db_query)\n",
    "\n",
    "\n",
    "# Switch to using the newly created database\n",
    "use_db_query = f\"USE {DATABASE};\"\n",
    "cursor.execute(use_db_query)\n",
    "conn.commit()"
   ]
  },
  {
   "cell_type": "code",
   "execution_count": null,
   "id": "e2f9fb0e",
   "metadata": {},
   "outputs": [],
   "source": [
    "# Number of inverters in every single compact station\n",
    "cs={1:65, 2:66, 3:66, 4:66, 5:65, 6:44, 7:42, 8:65, 9:20}"
   ]
  },
  {
   "cell_type": "code",
   "execution_count": 4,
   "id": "8cd9c52e",
   "metadata": {},
   "outputs": [],
   "source": [
    "for i in cs.keys():\n",
    "    for j in range (1,cs[i]+1):\n",
    "        table_name=f'INV{chr(i+64)}{j:02}'\n",
    "        query = f'''\n",
    "            CREATE TABLE {table_name} (\n",
    "                id INT,\n",
    "                timestamp DATETIME,\n",
    "                [CS{i:02}_INV{chr(i+64)}{j:02}_Abnormal Equipment] BIT DEFAULT 1,\n",
    "                [CS{i:02}_INV{chr(i+64)}{j:02}_Abnormal Ground] BIT DEFAULT 1,\n",
    "                [CS{i:02}_INV{chr(i+64)}{j:02}_Abnormal Leakage Current] BIT DEFAULT 1,\n",
    "                [CS{i:02}_INV{chr(i+64)}{j:02}_Abnormal Monitor Unit] BIT DEFAULT 1,\n",
    "                [CS{i:02}_INV{chr(i+64)}{j:02}_Abnormal String] BIT DEFAULT 1,\n",
    "                [CS{i:02}_INV{chr(i+64)}{j:02}_AFCI Self-test Fault] BIT DEFAULT 1,\n",
    "                [CS{i:02}_INV{chr(i+64)}{j:02}_COMUNICATION STATUS] BIT DEFAULT 1,\n",
    "                [CS{i:02}_INV{chr(i+64)}{j:02}_DC Arc Fault] BIT DEFAULT 1,\n",
    "                [CS{i:02}_INV{chr(i+64)}{j:02}_Grid Frequency Instability] BIT DEFAULT 1,\n",
    "                [CS{i:02}_INV{chr(i+64)}{j:02}_Grid Overfrequency] BIT DEFAULT 1,\n",
    "                [CS{i:02}_INV{chr(i+64)}{j:02}_Grid Underfrequency] BIT DEFAULT 1,\n",
    "                [CS{i:02}_INV{chr(i+64)}{j:02}_Grid Overvoltage] BIT DEFAULT 1,\n",
    "                [CS{i:02}_INV{chr(i+64)}{j:02}_Grid Undervoltage] BIT DEFAULT 1,\n",
    "                [CS{i:02}_INV{chr(i+64)}{j:02}_High String Voltage] BIT DEFAULT 1,\n",
    "                [CS{i:02}_INV{chr(i+64)}{j:02}_High String Voltage to Ground] BIT DEFAULT 1,\n",
    "                [CS{i:02}_INV{chr(i+64)}{j:02}_High Temperature] BIT DEFAULT 1,\n",
    "                [CS{i:02}_INV{chr(i+64)}{j:02}_INVERTER A PHASE CURRENT] FLOAT,\n",
    "                [CS{i:02}_INV{chr(i+64)}{j:02}_INVERTER AB LINE VOLTAGE] FLOAT,\n",
    "                [CS{i:02}_INV{chr(i+64)}{j:02}_INVERTER ACTIVE POWER VALUE] FLOAT,\n",
    "                [CS{i:02}_INV{chr(i+64)}{j:02}_INVERTER B PHASE CURRENT] FLOAT,\n",
    "                [CS{i:02}_INV{chr(i+64)}{j:02}_INVERTER BC LINE VOLTAGE] FLOAT,\n",
    "                [CS{i:02}_INV{chr(i+64)}{j:02}_INVERTER C PHASE CURRENT] FLOAT,\n",
    "                [CS{i:02}_INV{chr(i+64)}{j:02}_INVERTER CA LINE VOLTAGE] FLOAT,\n",
    "                [CS{i:02}_INV{chr(i+64)}{j:02}_INVERTER CABINET TEMPERATURE] FLOAT,\n",
    "                [CS{i:02}_INV{chr(i+64)}{j:02}_INVERTER DC ILLUSTRATION RESISTANCE] FLOAT,\n",
    "                [CS{i:02}_INV{chr(i+64)}{j:02}_INVERTER DC INPUT CURRENT] FLOAT,\n",
    "                [CS{i:02}_INV{chr(i+64)}{j:02}_INVERTER DC INPUT POWER] FLOAT,\n",
    "                [CS{i:02}_INV{chr(i+64)}{j:02}_INVERTER DC INPUT VOLTAGE] FLOAT,\n",
    "                [CS{i:02}_INV{chr(i+64)}{j:02}_INVERTER EFFICIENCY] FLOAT,\n",
    "                [CS{i:02}_INV{chr(i+64)}{j:02}_INVERTER FREQUENCY VALUE] FLOAT,\n",
    "                [CS{i:02}_INV{chr(i+64)}{j:02}_INVERTER LOCKED] BIT DEFAULT 1,\n",
    "                [CS{i:02}_INV{chr(i+64)}{j:02}_INVERTER POWER FACTOR VALUE] FLOAT,\n",
    "                [CS{i:02}_INV{chr(i+64)}{j:02}_INVERTER PV1 INPUT CURRENT] FLOAT,\n",
    "                [CS{i:02}_INV{chr(i+64)}{j:02}_INVERTER PV1 INPUT VOLTAGE] FLOAT,\n",
    "                [CS{i:02}_INV{chr(i+64)}{j:02}_INVERTER PV2 INPUT CURRENT] FLOAT,\n",
    "                [CS{i:02}_INV{chr(i+64)}{j:02}_INVERTER PV2 INPUT VOLTAGE] FLOAT,\n",
    "                [CS{i:02}_INV{chr(i+64)}{j:02}_INVERTER PV3 INPUT CURRENT] FLOAT,\n",
    "                [CS{i:02}_INV{chr(i+64)}{j:02}_INVERTER PV3 INPUT VOLTAGE] FLOAT,\n",
    "                [CS{i:02}_INV{chr(i+64)}{j:02}_INVERTER PV4 INPUT CURRENT] FLOAT,\n",
    "                [CS{i:02}_INV{chr(i+64)}{j:02}_INVERTER PV4 INPUT VOLTAGE] FLOAT,\n",
    "                [CS{i:02}_INV{chr(i+64)}{j:02}_INVERTER PV5 INPUT CURRENT] FLOAT,\n",
    "                [CS{i:02}_INV{chr(i+64)}{j:02}_INVERTER PV5 INPUT VOLTAGE] FLOAT,\n",
    "                [CS{i:02}_INV{chr(i+64)}{j:02}_INVERTER PV6 INPUT CURRENT] FLOAT,\n",
    "                [CS{i:02}_INV{chr(i+64)}{j:02}_INVERTER PV6 INPUT VOLTAGE] FLOAT,\n",
    "                [CS{i:02}_INV{chr(i+64)}{j:02}_INVERTER PV7 INPUT CURRENT] FLOAT,\n",
    "                [CS{i:02}_INV{chr(i+64)}{j:02}_INVERTER PV7 INPUT VOLTAGE] FLOAT,\n",
    "                [CS{i:02}_INV{chr(i+64)}{j:02}_INVERTER PV8 INPUT CURRENT] FLOAT,\n",
    "                [CS{i:02}_INV{chr(i+64)}{j:02}_INVERTER PV8 INPUT VOLTAGE] FLOAT,\n",
    "                [CS{i:02}_INV{chr(i+64)}{j:02}_INVERTER PV9 INPUT CURRENT] FLOAT,\n",
    "                [CS{i:02}_INV{chr(i+64)}{j:02}_INVERTER PV9 INPUT VOLTAGE] FLOAT,\n",
    "                [CS{i:02}_INV{chr(i+64)}{j:02}_INVERTER PV10 INPUT CURRENT] FLOAT,\n",
    "                [CS{i:02}_INV{chr(i+64)}{j:02}_INVERTER PV10 INPUT VOLTAGE] FLOAT,\n",
    "                [CS{i:02}_INV{chr(i+64)}{j:02}_INVERTER PV11 INPUT CURRENT] FLOAT,\n",
    "                [CS{i:02}_INV{chr(i+64)}{j:02}_INVERTER PV11 INPUT VOLTAGE] FLOAT,\n",
    "                [CS{i:02}_INV{chr(i+64)}{j:02}_INVERTER PV12 INPUT CURRENT] FLOAT,\n",
    "                [CS{i:02}_INV{chr(i+64)}{j:02}_INVERTER PV12 INPUT VOLTAGE] FLOAT,\n",
    "                [CS{i:02}_INV{chr(i+64)}{j:02}_INVERTER RCD CURRENT] FLOAT,\n",
    "                [CS{i:02}_INV{chr(i+64)}{j:02}_INVERTER REACTIVE POWER VALUE] FLOAT,\n",
    "                [CS{i:02}_INV{chr(i+64)}{j:02}_INVERTER STATUS] BIT DEFAULT 1,\n",
    "                [CS{i:02}_INV{chr(i+64)}{j:02}_INVERTER TOTAL CO2 REDUCTION] FLOAT,\n",
    "                [CS{i:02}_INV{chr(i+64)}{j:02}_INVERTER TOTAL ENERGY YIELD CURRENT DAY VALUE] FLOAT,\n",
    "                [CS{i:02}_INV{chr(i+64)}{j:02}_INVERTER TOTAL ENERGY YIELD CURRENT MONTH VALUE] FLOAT,\n",
    "                [CS{i:02}_INV{chr(i+64)}{j:02}_INVERTER TOTAL ENERGY YIELD CURRENT YEAR VALUE] FLOAT,\n",
    "                [CS{i:02}_INV{chr(i+64)}{j:02}_INVERTER TOTAL ENERGY YIELD VALUE] FLOAT,\n",
    "                [CS{i:02}_INV{chr(i+64)}{j:02}_INVERTER WARNING] BIT DEFAULT 1,\n",
    "                [CS{i:02}_INV{chr(i+64)}{j:02}_Large DC of Output current] BIT DEFAULT 1,\n",
    "                [CS{i:02}_INV{chr(i+64)}{j:02}_License Expired] BIT DEFAULT 1,\n",
    "                [CS{i:02}_INV{chr(i+64)}{j:02}_Low Insulation Res] BIT DEFAULT 1,\n",
    "                [CS{i:02}_INV{chr(i+64)}{j:02}_Output Overcurrent] BIT DEFAULT 1,\n",
    "                [CS{i:02}_INV{chr(i+64)}{j:02}_Power Grid Failure] BIT DEFAULT 1,\n",
    "                [CS{i:02}_INV{chr(i+64)}{j:02}_PV String Backfeed] BIT DEFAULT 1,\n",
    "                [CS{i:02}_INV{chr(i+64)}{j:02}_Short circuit between phase to PE] BIT DEFAULT 1,\n",
    "                [CS{i:02}_INV{chr(i+64)}{j:02}_String Reversed] BIT DEFAULT 1,\n",
    "                [CS{i:02}_INV{chr(i+64)}{j:02}_Unbalanced Grid Voltage] BIT DEFAULT 1,\n",
    "                [CS{i:02}_INV{chr(i+64)}{j:02}_Upgrade Failed] BIT DEFAULT 1      \n",
    "        )\n",
    "        '''\n",
    "        cursor.execute(query)\n",
    "        conn.commit()\n"
   ]
  },
  {
   "cell_type": "code",
   "execution_count": 7,
   "id": "571069df",
   "metadata": {},
   "outputs": [],
   "source": [
    "# Close the cursor and the connection\n",
    "cursor.close()\n",
    "conn.close() "
   ]
  },
  {
   "cell_type": "code",
   "execution_count": null,
   "id": "31ebba52",
   "metadata": {},
   "outputs": [],
   "source": []
  }
 ],
 "metadata": {
  "kernelspec": {
   "display_name": "Python 3 (ipykernel)",
   "language": "python",
   "name": "python3"
  },
  "language_info": {
   "codemirror_mode": {
    "name": "ipython",
    "version": 3
   },
   "file_extension": ".py",
   "mimetype": "text/x-python",
   "name": "python",
   "nbconvert_exporter": "python",
   "pygments_lexer": "ipython3",
   "version": "3.10.9"
  }
 },
 "nbformat": 4,
 "nbformat_minor": 5
}
