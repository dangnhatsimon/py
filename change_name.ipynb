{
 "cells": [
  {
   "cell_type": "code",
   "execution_count": 14,
   "id": "ef1982fc",
   "metadata": {},
   "outputs": [],
   "source": [
    "import os\n",
    "import re"
   ]
  },
  {
   "cell_type": "code",
   "execution_count": 15,
   "id": "5365d31c",
   "metadata": {},
   "outputs": [],
   "source": [
    "project_code='DH2'\n",
    "organization='PECC2'\n",
    "level='XX'\n",
    "file_type='.pdf'\n",
    "wdir = 'D:/Python/'\n",
    "pattern=r'(\\d{6})_([\\w \\_ \\. \\# \\( \\)]*)'"
   ]
  },
  {
   "cell_type": "code",
   "execution_count": 16,
   "id": "05fc5254",
   "metadata": {},
   "outputs": [],
   "source": [
    "for file in os.listdir(wdir):\n",
    "    if os.path.isfile(os.path.join(wdir,file)):\n",
    "        file_name=os.path.splitext(file)[0]\n",
    "        file_ext=os.path.splitext(file)[1]\n",
    "        if (file_ext.lower() == file_type) and (organization not in file_name):\n",
    "            old_name_list=file.split('-')\n",
    "            old_name_list[3]=old_name_list[3].replace(file_ext,file_type)\n",
    "            search=re.search(pattern,old_name_list[3])\n",
    "            new_name_list=[old_name_list[0],organization,old_name_list[2],level,old_name_list[1],search[1],search[2]]\n",
    "            new_name='-'.join(new_name_list)\n",
    "            os.rename(os.path.join(wdir,file),os.path.join(wdir,new_name))"
   ]
  },
  {
   "cell_type": "code",
   "execution_count": null,
   "id": "64c69c2d",
   "metadata": {},
   "outputs": [],
   "source": []
  }
 ],
 "metadata": {
  "kernelspec": {
   "display_name": "Python 3 (ipykernel)",
   "language": "python",
   "name": "python3"
  },
  "language_info": {
   "codemirror_mode": {
    "name": "ipython",
    "version": 3
   },
   "file_extension": ".py",
   "mimetype": "text/x-python",
   "name": "python",
   "nbconvert_exporter": "python",
   "pygments_lexer": "ipython3",
   "version": "3.10.9"
  }
 },
 "nbformat": 4,
 "nbformat_minor": 5
}
