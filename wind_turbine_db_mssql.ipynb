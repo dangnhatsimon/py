{
 "cells": [
  {
   "cell_type": "code",
   "execution_count": 1,
   "id": "06c1213f",
   "metadata": {},
   "outputs": [],
   "source": [
    "# import libraries\n",
    "import pyodbc "
   ]
  },
  {
   "cell_type": "code",
   "execution_count": 2,
   "id": "744e99ce",
   "metadata": {},
   "outputs": [],
   "source": [
    "# Define your connection parameters\n",
    "SERVER =  'DCC-DE01\\DCC' # Change server if need\n",
    "DATABASE = 'wind_turbine_db' # Change database name that need to create\n",
    "USERNAME = 'DCC-DE01\\DCC'\n",
    "PASSWORD = ''\n",
    "TRUSTED = 'no' # for Trusted_Connection if 'yes' SQL Server using the Windows credentials, if 'no' SQL Server Authentication\n",
    "ENCRYPT = 'no' # for Encrypt"
   ]
  },
  {
   "cell_type": "code",
   "execution_count": null,
   "id": "34871a8a",
   "metadata": {},
   "outputs": [],
   "source": [
    "# Create a connection to the database with Windows authentication\n",
    "connectionString = f'DRIVER={{ODBC Driver 18 for SQL Server}};SERVER={SERVER};Trusted_Connection={TRUSTED};Encrypt={ENCRYPT};UID={USERNAME};PWD={PASSWORD};Integrated Security=SSPI;'\n",
    "conn = pyodbc.connect(connectionString,autocommit=True)\n",
    "cursor = conn.cursor()"
   ]
  },
  {
   "cell_type": "code",
   "execution_count": null,
   "id": "06cdf889",
   "metadata": {},
   "outputs": [],
   "source": [
    "# Switch to using the newly created database\n",
    "cursor.execute(\"USE master;\")\n",
    "conn.commit()"
   ]
  },
  {
   "cell_type": "code",
   "execution_count": null,
   "id": "821ff359",
   "metadata": {},
   "outputs": [],
   "source": [
    "# Check if the database exists\n",
    "check_db_query = f\"SELECT name FROM master.dbo.sysdatabases WHERE name = '{DATABASE}'\"\n",
    "cursor.execute(check_db_query)\n",
    "existing_database = cursor.fetchone()\n",
    "\n",
    "if existing_database is not None:\n",
    "    # If the 'existing_database' variable is not None, the database exists\n",
    "    # Drop the database\n",
    "    drop_db_query = f\"DROP DATABASE {DATABASE};\"\n",
    "    cursor.execute(drop_db_query)\n",
    "    conn.commit()\n",
    "    print(f\"Database '{DATABASE}' has been dropped.\")"
   ]
  },
  {
   "cell_type": "code",
   "execution_count": null,
   "id": "25e69e8f",
   "metadata": {},
   "outputs": [],
   "source": [
    "# Create a SQL query to create the new database outside of the transaction\n",
    "create_db_query = f\"CREATE DATABASE {DATABASE};\"\n",
    "cursor.execute(create_db_query)"
   ]
  },
  {
   "cell_type": "code",
   "execution_count": null,
   "id": "44f5f80e",
   "metadata": {},
   "outputs": [],
   "source": [
    "# Switch to using the newly created database\n",
    "use_db_query = f\"USE {DATABASE};\"\n",
    "cursor.execute(use_db_query)\n",
    "conn.commit()"
   ]
  },
  {
   "cell_type": "code",
   "execution_count": null,
   "id": "71a55739",
   "metadata": {},
   "outputs": [],
   "source": [
    "# Number of turbines\n",
    "tb=18"
   ]
  },
  {
   "cell_type": "code",
   "execution_count": null,
   "id": "cfe08e76",
   "metadata": {},
   "outputs": [],
   "source": [
    "# Create table for plant general data\n",
    "plant_query = f'''\n",
    "    CREATE TABLE {plant} (\n",
    "        id INT,\n",
    "        [Number of wind turbines emergency stop] FLOAT,\n",
    "        [Number of wind turbines pause] FLOAT,\n",
    "        [Number of wind turbines communication fault] FLOAT,\n",
    "        [Number of wind turbines in manual mode] FLOAT,\n",
    "        [Number of wind turbines limited power] FLOAT,\n",
    "        [Number of wind turbines run and ready] FLOAT,\n",
    "        [Ambient temperature] FLOAT,\n",
    "        [Wind speed] FLOAT,\n",
    "        [Wind direction] FLOAT,\n",
    "        [Total active power] FLOAT,\n",
    "        [Number of wind turbines online] FLOAT,\n",
    "        [Capacity factor] FLOAT,\n",
    "        [Total production] FLOAT,\n",
    "        [Year production] FLOAT,\n",
    "        [Month production] FLOAT,\n",
    "        [Wind availability] FLOAT\n",
    "    )\n",
    "    '''\n",
    "cursor.execute(plant_query)\n",
    "conn.commit()"
   ]
  },
  {
   "cell_type": "code",
   "execution_count": null,
   "id": "5c0b54da",
   "metadata": {},
   "outputs": [],
   "source": [
    "# Create table for each wind turbine data\n",
    "for i in range(1,tb+1)\n",
    "    table_name=f'turbine_{i:02}'\n",
    "    turbine_query = f'''\n",
    "        CREATE TABLE {table_name} (\n",
    "            id INT,\n",
    "            timestamp DATETIME,\n",
    "            [Active power limit of available stator] FLOAT,\n",
    "            [Ambient temperature] FLOAT,\n",
    "            [Auxiliary active power] FLOAT,\n",
    "            [Auxiliary reactive power]\n",
    "            [Auxiliary transformer temperature] FLOAT,\n",
    "            [Average Active Power 15M] FLOAT,\n",
    "            [Average Ambient Temperature 15M] FLOAT,\n",
    "            [Average Reactive Power 15M] FLOAT,\n",
    "            [Average Wind Speed 15M] FLOAT,\n",
    "            [Converter air temperature] FLOAT,\n",
    "            [Curr daily production] FLOAT,\n",
    "            [Curr hourly production] FLOAT,\n",
    "            [Current month production] FLOAT,\n",
    "            [Current year production] FLOAT,\n",
    "            [Filtered main shaft front bearing temperature value] FLOAT,\n",
    "            [Filtered main shaft rear bearing temperature value] FLOAT,\n",
    "            [Gearbox bearing temperature] FLOAT,\n",
    "            [Gearbox oil temperature] FLOAT,\n",
    "            [Generator 1 winding temperature] FLOAT,\n",
    "            [Generator 2 winding temperature] FLOAT,\n",
    "            [Generator 3 winding temperature] FLOAT,\n",
    "            [Generator bearing temperature, coupling side] FLOAT,\n",
    "            [Generator bearing temperature, non-coupling side] FLOAT,\n",
    "            [Generator sliprings temperature] FLOAT,\n",
    "            [Generator speed (CCU)] FLOAT,\n",
    "            [Generator speed (filtered PLC)] FLOAT,\n",
    "            [Grid active power] FLOAT,\n",
    "            [Grid availability hours current month] FLOAT,\n",
    "            [Grid Inverter Temperature branch 1] FLOAT,\n",
    "            [Grid Inverter Temperature branch 2] FLOAT,\n",
    "            [Grid Inverter Temperature branch 3] FLOAT,\n",
    "            [Grid phi cosine] FLOAT,\n",
    "            [Grid reactive power] FLOAT,\n",
    "            [Hydraulic unit oil temperature] FLOAT,\n",
    "            [Inverter inductor temperature (rotor) 1st Branch] FLOAT,\n",
    "            [Inverter inductor temperature (rotor) 2nd Branch] FLOAT,\n",
    "            [Limit of the maximum active power to generate] FLOAT,\n",
    "            [Monthly availability %] FLOAT,\n",
    "            [Nacel. position degrees] FLOAT,\n",
    "            [Nacelle temperature] FLOAT,\n",
    "            [Pitch angle] FLOAT,\n",
    "            [Pitch position of blade 1] FLOAT,\n",
    "            [Pitch position of blade 2] FLOAT,\n",
    "            [Pitch position of blade 3] FLOAT,\n",
    "            [Prev.month availability in %] FLOAT,\n",
    "            [Rotor speed] FLOAT,\n",
    "            [Total production] FLOAT,\n",
    "            [Total turbine availability hours] FLOAT,\n",
    "            [Trafo 1 winding temperature] FLOAT,\n",
    "            [Trafo 2 winding temperature] FLOAT,\n",
    "            [Trafo 3 winding temperature] FLOAT,\n",
    "            [Wind direction] FLOAT,\n",
    "            [Wind speed] FLOAT,\n",
    "            [Wind speed 10 min] FLOAT,\n",
    "            [Wind turbine status] FLOAT      \n",
    "    )\n",
    "    '''\n",
    "    cursor.execute(turbine_query)\n",
    "    conn.commit()"
   ]
  },
  {
   "cell_type": "code",
   "execution_count": null,
   "id": "3a498917",
   "metadata": {},
   "outputs": [],
   "source": [
    "# Close the cursor and the connection\n",
    "cursor.close()\n",
    "conn.close() "
   ]
  }
 ],
 "metadata": {
  "kernelspec": {
   "display_name": "Python 3 (ipykernel)",
   "language": "python",
   "name": "python3"
  },
  "language_info": {
   "codemirror_mode": {
    "name": "ipython",
    "version": 3
   },
   "file_extension": ".py",
   "mimetype": "text/x-python",
   "name": "python",
   "nbconvert_exporter": "python",
   "pygments_lexer": "ipython3",
   "version": "3.10.9"
  }
 },
 "nbformat": 4,
 "nbformat_minor": 5
}
