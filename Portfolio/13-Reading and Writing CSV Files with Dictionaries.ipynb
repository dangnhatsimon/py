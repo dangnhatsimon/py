{
 "cells": [
  {
   "cell_type": "code",
   "execution_count": 4,
   "id": "41dda922",
   "metadata": {},
   "outputs": [],
   "source": [
    "import csv\n",
    "hosts = [[\"workstation.local\", \"192.168.25.46\"], [\"webserver.cloud\", \"10.2.5.6\"]]\n",
    "with open('hosts.csv', 'w') as hosts_csv:\n",
    "    writer = csv.writer(hosts_csv)\n",
    "    writer.writerows(hosts)\n"
   ]
  },
  {
   "cell_type": "code",
   "execution_count": 5,
   "id": "d29abd98",
   "metadata": {},
   "outputs": [],
   "source": [
    "users = [{'name': 'Sol Mansi', 'username': 'solm', 'department': 'IT infrastructure'}, \n",
    "         {'name': 'Lio Nelson', 'username': 'lion', 'department': 'User Experience Research'}, \n",
    "         {'name': 'Charlie Grey', 'username': 'greyc', 'department': 'Development'}]\n",
    "keys = ['name', 'username', 'department']\n",
    "with open ('by_department.csv', 'w') as by_department:\n",
    "    writer = csv.DictWriter(by_department, fieldnames = keys)\n",
    "    writer.writeheader()\n",
    "    writer.writerows(users)\n"
   ]
  },
  {
   "cell_type": "code",
   "execution_count": 6,
   "id": "e872b699",
   "metadata": {},
   "outputs": [
    {
     "name": "stdout",
     "output_type": "stream",
     "text": [
      "a pink carnation is annual\n",
      "a yellow daffodil is perennial\n",
      "a blue iris is perennial\n",
      "a red poinsettia is perennial\n",
      "a yellow sunflower is annual\n",
      "\n"
     ]
    }
   ],
   "source": [
    "#The create_file function writes this information to a CSV file. \n",
    "#The contents_of_file function reads this file into records and returns the information in a nicely formatted block.\n",
    "import os\n",
    "import csv\n",
    "\n",
    "# Create a file with data in it\n",
    "def create_file(filename):\n",
    "  with open(filename, \"w\") as file:\n",
    "    file.write(\"name,color,type\\n\")\n",
    "    file.write(\"carnation,pink,annual\\n\")\n",
    "    file.write(\"daffodil,yellow,perennial\\n\")\n",
    "    file.write(\"iris,blue,perennial\\n\")\n",
    "    file.write(\"poinsettia,red,perennial\\n\")\n",
    "    file.write(\"sunflower,yellow,annual\\n\")\n",
    "\n",
    "# Read the file contents and format the information about each row\n",
    "def contents_of_file(filename):\n",
    "  return_string = \"\"\n",
    "\n",
    "  # Call the function to create the file \n",
    "  create_file(filename)\n",
    "\n",
    "  # Open the file\n",
    "  with open (filename, 'r') as f:\n",
    "    # Read the rows of the file into a dictionary\n",
    "    reader = csv.DictReader(f)\n",
    "    # Process each item of the dictionary\n",
    "    for row in reader:\n",
    "      return_string += \"a {} {} is {}\\n\".format(row[\"color\"], row[\"name\"], row[\"type\"])\n",
    "  return return_string\n",
    "\n",
    "#Call the function\n",
    "print(contents_of_file(\"flowers.csv\"))"
   ]
  },
  {
   "cell_type": "code",
   "execution_count": 8,
   "id": "1bf0e411",
   "metadata": {},
   "outputs": [
    {
     "name": "stdout",
     "output_type": "stream",
     "text": [
      "a pink carnation is annual\n",
      "a yellow daffodil is perennial\n",
      "a blue iris is perennial\n",
      "a red poinsettia is perennial\n",
      "a yellow sunflower is annual\n",
      "\n"
     ]
    }
   ],
   "source": [
    "import os\n",
    "import csv\n",
    "\n",
    "# Create a file with data in it\n",
    "def create_file(filename):\n",
    "  with open(filename, \"w\") as file:\n",
    "    file.write(\"name,color,type\\n\")\n",
    "    file.write(\"carnation,pink,annual\\n\")\n",
    "    file.write(\"daffodil,yellow,perennial\\n\")\n",
    "    file.write(\"iris,blue,perennial\\n\")\n",
    "    file.write(\"poinsettia,red,perennial\\n\")\n",
    "    file.write(\"sunflower,yellow,annual\\n\")\n",
    "\n",
    "# Read the file contents and format the information about each row\n",
    "def contents_of_file(filename):\n",
    "  return_string = \"\"\n",
    "\n",
    "  # Call the function to create the file \n",
    "  create_file(filename)\n",
    "\n",
    "  # Open the file\n",
    "  with open (filename,'r') as f:\n",
    "    # Read the rows of the file\n",
    "    rows = csv.reader(f)\n",
    "    rows = list(rows)\n",
    "    # Process each row\n",
    "    for row in rows:\n",
    "      name,color, type = row\n",
    "      # Format the return string for data rows only\n",
    "      if row !=rows[0]:\n",
    "        return_string += (\"a {} {} is {}\\n\").format(color,name,type)\n",
    "  return return_string\n",
    "\n",
    "#Call the function\n",
    "print(contents_of_file(\"flowers.csv\"))"
   ]
  },
  {
   "cell_type": "code",
   "execution_count": 5,
   "id": "1fdfea63",
   "metadata": {},
   "outputs": [
    {
     "name": "stdout",
     "output_type": "stream",
     "text": [
      "['1-Basic-checkpoint.ipynb', '10-WordCloud-checkpoint.ipynb', '11-Reading and Writing files-checkpoint.ipynb', '12-Managing Files and Directories-checkpoint.ipynb', '13-Reading and Writing CSV Files with Dictionaries-checkpoint.ipynb', '14-Regular Expression-checkpoint.ipynb', '2-Loops-checkpoint.ipynb', '3-String-checkpoint.ipynb', '4-List-checkpoint.ipynb', '5-Dictionaries-checkpoint.ipynb', '6-OOP-checkpoint.ipynb', '7-Methods and Classes-checkpoint.ipynb', '8-Code reuse-checkpoint.ipynb', '9-Events-checkpoint.ipynb', 'Automating tasks-checkpoint.ipynb', 'Untitled-checkpoint.ipynb', 'Week6_Final Project WordCloud-checkpoint.ipynb']\n",
      "D:\\Data Analytics\\Python\\1-Basic.ipynb\n",
      "D:\\Data Analytics\\Python\\10-WordCloud.ipynb\n",
      "D:\\Data Analytics\\Python\\11-Reading and Writing files.ipynb\n",
      "D:\\Data Analytics\\Python\\12-Managing Files and Directories.ipynb\n",
      "D:\\Data Analytics\\Python\\13-Reading and Writing CSV Files with Dictionaries.ipynb\n",
      "D:\\Data Analytics\\Python\\14-Regular Expression.ipynb\n",
      "D:\\Data Analytics\\Python\\2-Loops.ipynb\n",
      "D:\\Data Analytics\\Python\\3-String.ipynb\n",
      "D:\\Data Analytics\\Python\\4-List.ipynb\n",
      "D:\\Data Analytics\\Python\\5-Dictionaries.ipynb\n",
      "D:\\Data Analytics\\Python\\6-OOP.ipynb\n",
      "D:\\Data Analytics\\Python\\7-Methods and Classes.ipynb\n",
      "D:\\Data Analytics\\Python\\8-Code reuse.ipynb\n",
      "D:\\Data Analytics\\Python\\9-Events.ipynb\n",
      "D:\\Data Analytics\\Python\\Automating tasks.ipynb\n",
      "[\"(Developer's Library) David Beazley - Python Distilled-Pearson (2021).pdf\", 'Andreas C. Müller, Sarah Guido - Introduction to Machine Learning with Python_ A Guide for Data Scientists-O’Reilly Media (2016).pdf', 'Charles Russell Severance, Sue Blumenberg - Python for Everybody  Exploring Data in Python 3-CreateSpace Independent (2016).pdf', 'Eric Matthes - Python Crash Course A Hands-On, Project-Based Introduction to Programming-No Starch Press (2016).pdf', 'Lee Vaughan - Impractical Python Projects_ Playful Programming Activities to Make You Smarter (2019, No Starch Press) - libgen.li.pdf', \"Luciano Ramalho - Fluent Python_ Clear, Concise, and Effective Programming-O'Reilly Media (2015).pdf\", \"Wes McKinney - Python for Data Analysis-O'Reilly Media (2012).pdf\", 'Zed A. Shaw - Learn Python the Hard Way, 3rd Edition_ A Very Simple Introduction to the Terrifyingly Beautiful World of Computers and Code-Addison-Wesley (2013).pdf']\n",
      "D:\\Data Analytics\\Python\\by_department.csv\n",
      "D:\\Data Analytics\\Python\\file_contents.txt\n",
      "D:\\Data Analytics\\Python\\flowers.csv\n",
      "D:\\Data Analytics\\Python\\guests.txt\n",
      "D:\\Data Analytics\\Python\\hosts.csv\n",
      "D:\\Data Analytics\\Python\\newfile.txt\n",
      "[]\n",
      "D:\\Data Analytics\\Python\\program.py\n",
      "D:\\Data Analytics\\Python\\putty-64bit-0.78-installer.msi\n",
      "['script.py']\n",
      "D:\\Data Analytics\\Python\\qwiklabs-L49094392.ppk\n",
      "D:\\Data Analytics\\Python\\qwiklabs-L49386154.ppk\n",
      "D:\\Data Analytics\\Python\\Untitled.ipynb\n",
      "['Complete Python Bootcamp From Zero to Hero in Python', 'The Python Mega Course - Build 10 Real-World Programs', 'Udemy - Learn Python Programming Masterclass 2022-10']\n",
      "D:\\Data Analytics\\Python\\wordcloud-1.8.1-cp39-cp39-win32.whl\n",
      "D:\\Data Analytics\\Python\\wordcloud-1.8.1-cp39-cp39-win_amd64.whl\n"
     ]
    }
   ],
   "source": [
    "import os\n",
    "import csv\n",
    "def list_dir(dir):\n",
    "    for name in os.listdir(dir):\n",
    "        fullname = os.path.join(dir,name)\n",
    "        if os.path.isdir(fullname):\n",
    "            print(\"{}\".format(os.listdir(fullname)))\n",
    "        else:\n",
    "            print(\"{}\".format(os.listdir()))\n",
    "list_dir('D:\\Data Analytics\\Python')\n",
    "            "
   ]
  },
  {
   "cell_type": "code",
   "execution_count": 3,
   "id": "aee9121f",
   "metadata": {},
   "outputs": [
    {
     "data": {
      "text/plain": [
       "['.ipynb_checkpoints',\n",
       " '1-Basic.ipynb',\n",
       " '10-WordCloud.ipynb',\n",
       " '11-Reading and Writing files.ipynb',\n",
       " '12-Managing Files and Directories.ipynb',\n",
       " '13-Reading and Writing CSV Files with Dictionaries.ipynb',\n",
       " '14-Regular Expression.ipynb',\n",
       " '2-Loops.ipynb',\n",
       " '3-String.ipynb',\n",
       " '4-List.ipynb',\n",
       " '5-Dictionaries.ipynb',\n",
       " '6-OOP.ipynb',\n",
       " '7-Methods and Classes.ipynb',\n",
       " '8-Code reuse.ipynb',\n",
       " '9-Events.ipynb',\n",
       " 'Automating tasks.ipynb',\n",
       " 'Books',\n",
       " 'by_department.csv',\n",
       " 'file_contents.txt',\n",
       " 'flowers.csv',\n",
       " 'guests.txt',\n",
       " 'hosts.csv',\n",
       " 'newfile.txt',\n",
       " 'new_dir',\n",
       " 'program.py',\n",
       " 'putty-64bit-0.78-installer.msi',\n",
       " 'PythonPrograms',\n",
       " 'qwiklabs-L49094392.ppk',\n",
       " 'qwiklabs-L49386154.ppk',\n",
       " 'Untitled.ipynb',\n",
       " 'Videos',\n",
       " 'wordcloud-1.8.1-cp39-cp39-win32.whl',\n",
       " 'wordcloud-1.8.1-cp39-cp39-win_amd64.whl']"
      ]
     },
     "execution_count": 3,
     "metadata": {},
     "output_type": "execute_result"
    }
   ],
   "source": [
    "os.listdir('D:\\Data Analytics\\Python')"
   ]
  },
  {
   "cell_type": "code",
   "execution_count": null,
   "id": "981fab28",
   "metadata": {},
   "outputs": [],
   "source": []
  }
 ],
 "metadata": {
  "kernelspec": {
   "display_name": "Python 3 (ipykernel)",
   "language": "python",
   "name": "python3"
  },
  "language_info": {
   "codemirror_mode": {
    "name": "ipython",
    "version": 3
   },
   "file_extension": ".py",
   "mimetype": "text/x-python",
   "name": "python",
   "nbconvert_exporter": "python",
   "pygments_lexer": "ipython3",
   "version": "3.10.9"
  }
 },
 "nbformat": 4,
 "nbformat_minor": 5
}
