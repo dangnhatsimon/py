{
 "cells": [
  {
   "cell_type": "code",
   "execution_count": 1,
   "id": "dd256665",
   "metadata": {},
   "outputs": [
    {
     "name": "stdout",
     "output_type": "stream",
     "text": [
      "rice, 12\n",
      "Favourite foods, from most popular to least popular\n",
      "burgers, 10\n",
      "Favourite foods, from most popular to least popular\n",
      "fried chicken, 9\n",
      "Favourite foods, from most popular to least popular\n",
      "pie, 8\n",
      "Favourite foods, from most popular to least popular\n",
      "pizza, 7\n",
      "Favourite foods, from most popular to least popular\n",
      "salad, 7\n",
      "Favourite foods, from most popular to least popular\n",
      "tacos, 6\n",
      "Favourite foods, from most popular to least popular\n",
      "avocados, 6\n",
      "Favourite foods, from most popular to least popular\n",
      "spaghetti, 5\n",
      "Favourite foods, from most popular to least popular\n",
      "broccoli, 5\n",
      "Favourite foods, from most popular to least popular\n",
      "bananas, 5\n",
      "Favourite foods, from most popular to least popular\n",
      "ice cream, 4\n",
      "Favourite foods, from most popular to least popular\n",
      "fish, 4\n",
      "Favourite foods, from most popular to least popular\n",
      "cake, 3\n",
      "Favourite foods, from most popular to least popular\n",
      "cereal, 3\n",
      "Favourite foods, from most popular to least popular\n",
      "strawberries, 3\n",
      "Favourite foods, from most popular to least popular\n",
      "watermelon, 2\n",
      "Favourite foods, from most popular to least popular\n",
      "ice crea, 1\n",
      "Favourite foods, from most popular to least popular\n"
     ]
    }
   ],
   "source": [
    "#!/usr/bin/env python3\n",
    "\n",
    "# Dictionary to keep track of food likes\n",
    "counter = {}\n",
    "\n",
    "# Open up the favorite foods log and add it to the dictionary\n",
    "with open(\"favorite_foods.log.txt\", \"r\") as f:\n",
    "    for i in f:\n",
    "        i = i[:-1]\n",
    "        if i not in counter:\n",
    "            counter[i] = 1\n",
    "        else:\n",
    "            counter[i] += 1\n",
    "\n",
    "# Sorts the liked foods in descending order\n",
    "sort_foods = sorted(counter.items(), key = lambda x : x[1], reverse = True)\n",
    "\n",
    "# Prints out the liked foods\n",
    "for i in range(len(sort_foods)):\n",
    "    print(\"{}, {}\".format(sort_foods[i][0], sort_foods[i][1]))\n",
    "    print(\"Favourite foods, from most popular to least popular\")\n",
    "\n"
   ]
  },
  {
   "cell_type": "code",
   "execution_count": 2,
   "id": "3333cf04",
   "metadata": {},
   "outputs": [
    {
     "ename": "NameError",
     "evalue": "name 'item' is not defined",
     "output_type": "error",
     "traceback": [
      "\u001b[1;31m---------------------------------------------------------------------------\u001b[0m",
      "\u001b[1;31mNameError\u001b[0m                                 Traceback (most recent call last)",
      "Cell \u001b[1;32mIn[2], line 10\u001b[0m\n\u001b[0;32m      8\u001b[0m \u001b[38;5;28;01mfor\u001b[39;00m line \u001b[38;5;129;01min\u001b[39;00m f:\n\u001b[0;32m      9\u001b[0m     food_item \u001b[38;5;241m=\u001b[39m line\u001b[38;5;241m.\u001b[39mstrip()\n\u001b[1;32m---> 10\u001b[0m     \u001b[38;5;28;01mif\u001b[39;00m \u001b[43mitem\u001b[49m \u001b[38;5;129;01mnot\u001b[39;00m \u001b[38;5;129;01min\u001b[39;00m counter:\n\u001b[0;32m     11\u001b[0m         counter[item] \u001b[38;5;241m=\u001b[39m \u001b[38;5;241m1\u001b[39m\n\u001b[0;32m     12\u001b[0m     \u001b[38;5;28;01melse\u001b[39;00m:\n",
      "\u001b[1;31mNameError\u001b[0m: name 'item' is not defined"
     ]
    }
   ],
   "source": [
    "#!/usr/bin/env python3\n",
    "\n",
    "# Dictionary to keep track of food likes\n",
    "counter = {}\n",
    "\n",
    "# Open up the favorite foods log and count frequencies using the dictionary\n",
    "with open(\"favorite_foods.log.txt\", \"r\") as f:\n",
    "    for line in f:\n",
    "        food_item = line.strip()\n",
    "        if item not in counter:\n",
    "            counter[item] = 1\n",
    "        else:\n",
    "            counter[item] += 1\n",
    "\n",
    "# Print out all the available liked foods\n",
    "print(\"Select your favorite food below:\")\n",
    "for item in counter:\n",
    "    print(item)\n",
    "\n",
    "# Ask which food is the user's favorite\n",
    "answer = input(\"Which of the foods above is your favorite? \")\n",
    "answer = answer.lower()\n",
    "\n",
    "# Print out how many others like the user's favorite food, otherwise say it can't be found\n",
    "try:\n",
    "    print(\"{} of your friends like {} as well!\".format(counter[answer], answer))\n",
    "    exit(0)\n",
    "except KeyError:\n",
    "    print(\"Hmm we couldn't find anyone who also likes \\\"{}\\\".\".format(answer))\n",
    "    print(\"Did you enter one of the foods listed above?\")\n",
    "    exit(0)\n"
   ]
  },
  {
   "cell_type": "code",
   "execution_count": 3,
   "id": "e80cd7fb",
   "metadata": {},
   "outputs": [
    {
     "name": "stdout",
     "output_type": "stream",
     "text": [
      "Select your favorite food below:\n",
      "pie\n",
      "burgers\n",
      "pizza\n",
      "tacos\n",
      "fried chicken\n",
      "spaghetti\n",
      "rice\n",
      "cake\n",
      "broccoli\n",
      "cereal\n",
      "salad\n",
      "avocados\n",
      "ice cream\n",
      "fish\n",
      "strawberries\n",
      "bananas\n",
      "watermelon\n",
      "Which of the foods above is your favorite? salad\n",
      "7 of your friends like salad as well!\n"
     ]
    }
   ],
   "source": [
    "#!/usr/bin/env python3\n",
    "\n",
    "# Dictionary to keep track of food likes\n",
    "counter = {}\n",
    "\n",
    "# Open up the favorite foods log and count frequencies using the dictionary\n",
    "with open(\"favorite_foods.log.txt\", \"r\") as f:\n",
    "    for line in f:\n",
    "        item = line.strip()\n",
    "        if item not in counter:\n",
    "            counter[item] = 1\n",
    "        else:\n",
    "            counter[item] += 1\n",
    "\n",
    "# Print out all the available liked foods\n",
    "print(\"Select your favorite food below:\")\n",
    "for item in counter:\n",
    "    print(item)\n",
    "# Ask which food is the user's favorite\n",
    "answer = input(\"Which of the foods above is your favorite? \")\n",
    "answer = answer.lower()\n",
    "\n",
    "# Print out how many others like the user's favorite food, otherwise say it can't be found\n",
    "try:\n",
    "    print(\"{} of your friends like {} as well!\".format(counter[answer], answer))\n",
    "    exit(0)\n",
    "except KeyError:\n",
    "    print(\"Hmm we couldn't find anyone who also likes \\\"{}\\\".\".format(answer))\n",
    "    print(\"Did you enter one of the foods listed above?\")\n",
    "    exit(0)\n"
   ]
  },
  {
   "cell_type": "code",
   "execution_count": null,
   "id": "f6d93e3d",
   "metadata": {},
   "outputs": [],
   "source": []
  },
  {
   "cell_type": "code",
   "execution_count": null,
   "id": "501885a3",
   "metadata": {},
   "outputs": [],
   "source": []
  }
 ],
 "metadata": {
  "kernelspec": {
   "display_name": "Python 3 (ipykernel)",
   "language": "python",
   "name": "python3"
  },
  "language_info": {
   "codemirror_mode": {
    "name": "ipython",
    "version": 3
   },
   "file_extension": ".py",
   "mimetype": "text/x-python",
   "name": "python",
   "nbconvert_exporter": "python",
   "pygments_lexer": "ipython3",
   "version": "3.10.9"
  }
 },
 "nbformat": 4,
 "nbformat_minor": 5
}
