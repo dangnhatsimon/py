{
 "cells": [
  {
   "cell_type": "code",
   "execution_count": 2,
   "id": "2b486589",
   "metadata": {},
   "outputs": [
    {
     "name": "stdout",
     "output_type": "stream",
     "text": [
      "5.7\n"
     ]
    }
   ],
   "source": [
    "import psutil\n",
    "usage = psutil.cpu_percent()\n",
    "print(usage)"
   ]
  },
  {
   "cell_type": "code",
   "execution_count": 4,
   "id": "089ed494",
   "metadata": {},
   "outputs": [
    {
     "name": "stdout",
     "output_type": "stream",
     "text": [
      "2.7\n"
     ]
    }
   ],
   "source": [
    "usage = psutil.cpu_percent(1)\n",
    "print(usage)"
   ]
  },
  {
   "cell_type": "code",
   "execution_count": 7,
   "id": "28481de8",
   "metadata": {},
   "outputs": [
    {
     "ename": "NameError",
     "evalue": "name 'percent_free' is not defined",
     "output_type": "error",
     "traceback": [
      "\u001b[1;31m---------------------------------------------------------------------------\u001b[0m",
      "\u001b[1;31mNameError\u001b[0m                                 Traceback (most recent call last)",
      "Cell \u001b[1;32mIn[7], line 16\u001b[0m\n\u001b[0;32m     13\u001b[0m     \u001b[38;5;28;01mreturn\u001b[39;00m \u001b[38;5;28;01mTrue\u001b[39;00m\n\u001b[0;32m     15\u001b[0m \u001b[38;5;66;03m# Check for at least 2GB and 10% free\u001b[39;00m\n\u001b[1;32m---> 16\u001b[0m \u001b[38;5;28;01mif\u001b[39;00m \u001b[38;5;129;01mnot\u001b[39;00m \u001b[43mcheck_disk_usage\u001b[49m\u001b[43m(\u001b[49m\u001b[38;5;124;43m\"\u001b[39;49m\u001b[38;5;124;43m/\u001b[39;49m\u001b[38;5;124;43m\"\u001b[39;49m\u001b[43m,\u001b[49m\u001b[43m \u001b[49m\u001b[38;5;241;43m2\u001b[39;49m\u001b[43m,\u001b[49m\u001b[43m \u001b[49m\u001b[38;5;241;43m10\u001b[39;49m\u001b[43m)\u001b[49m:\n\u001b[0;32m     17\u001b[0m     \u001b[38;5;28mprint\u001b[39m(\u001b[38;5;124m\"\u001b[39m\u001b[38;5;124mERROR: Not enough space disk usage\u001b[39m\u001b[38;5;124m\"\u001b[39m)\n\u001b[0;32m     18\u001b[0m     sys\u001b[38;5;241m.\u001b[39mexit(\u001b[38;5;241m1\u001b[39m)\n",
      "Cell \u001b[1;32mIn[7], line 11\u001b[0m, in \u001b[0;36mcheck_disk_usage\u001b[1;34m(disk, min_absolute, min_percent)\u001b[0m\n\u001b[0;32m      9\u001b[0m \u001b[38;5;66;03m# Calculate how many free gigabytes (1GB = 2^30 B)\u001b[39;00m\n\u001b[0;32m     10\u001b[0m gigabytes_free\u001b[38;5;241m=\u001b[39m du\u001b[38;5;241m.\u001b[39mfree\u001b[38;5;241m/\u001b[39m\u001b[38;5;241m2\u001b[39m\u001b[38;5;241m*\u001b[39m\u001b[38;5;241m*\u001b[39m\u001b[38;5;241m30\u001b[39m\n\u001b[1;32m---> 11\u001b[0m \u001b[38;5;28;01mif\u001b[39;00m \u001b[43mpercent_free\u001b[49m \u001b[38;5;241m<\u001b[39m min_percent \u001b[38;5;129;01mor\u001b[39;00m gigabytes_free \u001b[38;5;241m<\u001b[39m min_absolute:\n\u001b[0;32m     12\u001b[0m     \u001b[38;5;28;01mreturn\u001b[39;00m \u001b[38;5;28;01mFalse\u001b[39;00m\n\u001b[0;32m     13\u001b[0m \u001b[38;5;28;01mreturn\u001b[39;00m \u001b[38;5;28;01mTrue\u001b[39;00m\n",
      "\u001b[1;31mNameError\u001b[0m: name 'percent_free' is not defined"
     ]
    }
   ],
   "source": [
    "#!/usr/bin/env python3\n",
    "import shutil\n",
    "import sys\n",
    "def check_disk_usage(disk, min_absolute, min_percent):\n",
    "    \"\"\"Returnns True if there is enough free disk space, false otherwise\"\"\"\n",
    "    du =shutil.disk_usage(disk)\n",
    "    # Calculate the percentage of free space\n",
    "    percent_free=100* du.free/ du.total\n",
    "    # Calculate how many free gigabytes (1GB = 2^30 B)\n",
    "    gigabytes_free= du.free/2**30\n",
    "    if percent_free < min_percent or gigabytes_free < min_absolute:\n",
    "        return False\n",
    "    return True\n",
    "\n",
    "# Check for at least 2GB and 10% free\n",
    "if not check_disk_usage(\"/\", 2, 10):\n",
    "    print(\"ERROR: Not enough space disk usage\")\n",
    "    sys.exit(1)\n",
    "\n",
    "print (\"Everything ok\")\n",
    "sys.exit(0)"
   ]
  },
  {
   "cell_type": "code",
   "execution_count": 6,
   "id": "3e94985b",
   "metadata": {},
   "outputs": [
    {
     "data": {
      "text/plain": [
       "1073741824"
      ]
     },
     "execution_count": 6,
     "metadata": {},
     "output_type": "execute_result"
    }
   ],
   "source": [
    "2**30"
   ]
  },
  {
   "cell_type": "code",
   "execution_count": 8,
   "id": "b9fcd0c2",
   "metadata": {},
   "outputs": [
    {
     "ename": "SyntaxError",
     "evalue": "invalid syntax (3187385214.py, line 1)",
     "output_type": "error",
     "traceback": [
      "\u001b[1;36m  Cell \u001b[1;32mIn[8], line 1\u001b[1;36m\u001b[0m\n\u001b[1;33m    diff -u disk_usage_original.py disk_usage_fixed.py > disk_usage.diff\u001b[0m\n\u001b[1;37m            ^\u001b[0m\n\u001b[1;31mSyntaxError\u001b[0m\u001b[1;31m:\u001b[0m invalid syntax\n"
     ]
    }
   ],
   "source": [
    "diff -u disk_usage_original.py disk_usage_fixed.py > disk_usage.diff"
   ]
  },
  {
   "cell_type": "code",
   "execution_count": 9,
   "id": "ee97c1c8",
   "metadata": {},
   "outputs": [
    {
     "ename": "SyntaxError",
     "evalue": "invalid syntax (4253033840.py, line 1)",
     "output_type": "error",
     "traceback": [
      "\u001b[1;36m  Cell \u001b[1;32mIn[9], line 1\u001b[1;36m\u001b[0m\n\u001b[1;33m    patch disk_usage.py < disk_usage.diff\u001b[0m\n\u001b[1;37m          ^\u001b[0m\n\u001b[1;31mSyntaxError\u001b[0m\u001b[1;31m:\u001b[0m invalid syntax\n"
     ]
    }
   ],
   "source": [
    "patch disk_usage.py < disk_usage.diff"
   ]
  },
  {
   "cell_type": "code",
   "execution_count": 3,
   "id": "50a00ddc",
   "metadata": {},
   "outputs": [
    {
     "name": "stdout",
     "output_type": "stream",
     "text": [
      "Disk full.\n"
     ]
    },
    {
     "ename": "SystemExit",
     "evalue": "1",
     "output_type": "error",
     "traceback": [
      "An exception has occurred, use %tb to see the full traceback.\n",
      "\u001b[1;31mSystemExit\u001b[0m\u001b[1;31m:\u001b[0m 1\n"
     ]
    },
    {
     "name": "stderr",
     "output_type": "stream",
     "text": [
      "C:\\ProgramData\\anaconda3\\lib\\site-packages\\IPython\\core\\interactiveshell.py:3468: UserWarning: To exit: use 'exit', 'quit', or Ctrl-D.\n",
      "  warn(\"To exit: use 'exit', 'quit', or Ctrl-D.\", stacklevel=1)\n"
     ]
    }
   ],
   "source": [
    "#!/usr/bin/env python3\n",
    "import shutil\n",
    "import os\n",
    "import sys\n",
    "def check_reboot():\n",
    "    \"\"\"Returns True if the computer has a pending reboot.\"\"\"\n",
    "    return os.path.exists(\"/run/reboot-required\")\n",
    "\n",
    "def check_disk_full(disk, min_gb, min_percent):\n",
    "    \"\"\"Returnns True if there is enough free disk space, false otherwise\"\"\"\n",
    "    du =shutil.disk_usage(disk)\n",
    "    # Calculate the percentage of free space\n",
    "    percent_free=100* du.free/ du.total\n",
    "    # Calculate how many free gigabytes (1GB = 2^30 B)\n",
    "    gigabytes_free= du.free/2**30\n",
    "    if percent_free < min_percent or gigabytes_free < min_gb:\n",
    "        return False\n",
    "    return True\n",
    "\n",
    "def main():\n",
    "    if check_reboot():\n",
    "        print(\"Pending reboot.\")\n",
    "        sys.exit(1)\n",
    "# Check for at least 2GB and 10% free\n",
    "    if check_disk_full(disk=\"/\", min_gb=2, min_percent=10):\n",
    "        print(\"Disk full.\")\n",
    "        sys.exit(1)\n",
    "    print (\"Everything ok\")\n",
    "    sys.exit(0)\n",
    "main()"
   ]
  },
  {
   "cell_type": "code",
   "execution_count": 4,
   "id": "a65efa2c",
   "metadata": {},
   "outputs": [
    {
     "name": "stdout",
     "output_type": "stream",
     "text": [
      "Root partition full\n"
     ]
    },
    {
     "ename": "SystemExit",
     "evalue": "1",
     "output_type": "error",
     "traceback": [
      "An exception has occurred, use %tb to see the full traceback.\n",
      "\u001b[1;31mSystemExit\u001b[0m\u001b[1;31m:\u001b[0m 1\n"
     ]
    }
   ],
   "source": [
    "#!/usr/bin/env python3\n",
    "import shutil\n",
    "import os\n",
    "import sys\n",
    "def check_reboot():\n",
    "    \"\"\"Returns True if the computer has a pending reboot.\"\"\"\n",
    "    return os.path.exists(\"/run/reboot-required\")\n",
    "\n",
    "def check_disk_full(disk, min_gb, min_percent):\n",
    "    \"\"\"Returnns True if there is enough free disk space, false otherwise\"\"\"\n",
    "    du =shutil.disk_usage(disk)\n",
    "    # Calculate the percentage of free space\n",
    "    percent_free=100* du.free/ du.total\n",
    "    # Calculate how many free gigabytes (1GB = 2^30 B)\n",
    "    gigabytes_free= du.free/2**30\n",
    "    if percent_free < min_percent or gigabytes_free < min_gb:\n",
    "        return False\n",
    "    return True\n",
    "\n",
    "def check_root_full():\n",
    "    \"\"\"Returnns True if the root partition is full, false otherwise\"\"\"\n",
    "    return check_disk_full(disk='/', min_gb=2, min_percent=10)\n",
    "\n",
    "def main():\n",
    "    if check_reboot():\n",
    "        print(\"Pending reboot.\")\n",
    "        sys.exit(1)\n",
    "# Check for at least 2GB and 10% free\n",
    "    if check_root_full():\n",
    "        print(\"Root partition  full\")\n",
    "        sys.exit(1)\n",
    "    print (\"Everything ok\")\n",
    "    sys.exit(0)\n",
    "main()"
   ]
  },
  {
   "cell_type": "code",
   "execution_count": 10,
   "id": "bb6583a9",
   "metadata": {},
   "outputs": [
    {
     "name": "stdout",
     "output_type": "stream",
     "text": [
      "862364225536\n",
      "2000263573504\n"
     ]
    }
   ],
   "source": [
    "import shutil\n",
    "du =shutil.disk_usage('/')\n",
    "print(du.free)\n",
    "print(du.total)"
   ]
  },
  {
   "cell_type": "code",
   "execution_count": 11,
   "id": "9bd7492b",
   "metadata": {},
   "outputs": [
    {
     "name": "stdout",
     "output_type": "stream",
     "text": [
      "Root partion full\n"
     ]
    },
    {
     "ename": "SystemExit",
     "evalue": "1",
     "output_type": "error",
     "traceback": [
      "An exception has occurred, use %tb to see the full traceback.\n",
      "\u001b[1;31mSystemExit\u001b[0m\u001b[1;31m:\u001b[0m 1\n"
     ]
    },
    {
     "name": "stderr",
     "output_type": "stream",
     "text": [
      "C:\\ProgramData\\anaconda3\\lib\\site-packages\\IPython\\core\\interactiveshell.py:3468: UserWarning: To exit: use 'exit', 'quit', or Ctrl-D.\n",
      "  warn(\"To exit: use 'exit', 'quit', or Ctrl-D.\", stacklevel=1)\n"
     ]
    }
   ],
   "source": [
    "#!/usr/bin/env python3\n",
    "import shutil\n",
    "import os\n",
    "import sys\n",
    "def check_reboot():\n",
    "    \"\"\"Returns True if the computer has a pending reboot.\"\"\"\n",
    "    return os.path.exists(\"/run/reboot-required\")\n",
    "\n",
    "def check_disk_full(disk, min_gb, min_percent):\n",
    "    \"\"\"Returnns True if there is enough free disk space, false otherwise\"\"\"\n",
    "    du =shutil.disk_usage(disk)\n",
    "    # Calculate the percentage of free space\n",
    "    percent_free=100* du.free/ du.total\n",
    "    # Calculate how many free gigabytes (1GB = 2^30 B)\n",
    "    gigabytes_free= du.free/2**30\n",
    "    if percent_free < min_percent or gigabytes_free < min_gb:\n",
    "        return False\n",
    "    return True\n",
    "\n",
    "def check_root_full():\n",
    "    \"\"\"Returnns True if the root partition is full, false otherwise\"\"\"\n",
    "    return check_disk_full(disk='/', min_gb=2, min_percent=10)\n",
    "\n",
    "def main():\n",
    "    checks=[\n",
    "        (check_reboot, \"Pending Reboot\"),\n",
    "        (check_root_full, \"Root partion full\")\n",
    "    ]\n",
    "    for check, msg in checks:\n",
    "        if check():\n",
    "            print(msg)\n",
    "            sys.exit(1)\n",
    "            \n",
    "    print (\"Everything ok\")\n",
    "    sys.exit(0)\n",
    "main()"
   ]
  },
  {
   "cell_type": "code",
   "execution_count": 1,
   "id": "b2cb9577",
   "metadata": {},
   "outputs": [
    {
     "name": "stdout",
     "output_type": "stream",
     "text": [
      "Root partion full\n"
     ]
    },
    {
     "ename": "SystemExit",
     "evalue": "1",
     "output_type": "error",
     "traceback": [
      "An exception has occurred, use %tb to see the full traceback.\n",
      "\u001b[1;31mSystemExit\u001b[0m\u001b[1;31m:\u001b[0m 1\n"
     ]
    },
    {
     "name": "stderr",
     "output_type": "stream",
     "text": [
      "C:\\ProgramData\\anaconda3\\lib\\site-packages\\IPython\\core\\interactiveshell.py:3468: UserWarning: To exit: use 'exit', 'quit', or Ctrl-D.\n",
      "  warn(\"To exit: use 'exit', 'quit', or Ctrl-D.\", stacklevel=1)\n"
     ]
    }
   ],
   "source": [
    "#!/usr/bin/env python3\n",
    "import shutil\n",
    "import os\n",
    "import sys\n",
    "def check_reboot():\n",
    "    \"\"\"Returns True if the computer has a pending reboot.\"\"\"\n",
    "    return os.path.exists(\"/run/reboot-required\")\n",
    "\n",
    "def check_disk_full(disk, min_gb, min_percent):\n",
    "    \"\"\"Returnns True if there is enough free disk space, false otherwise\"\"\"\n",
    "    du =shutil.disk_usage(disk)\n",
    "    # Calculate the percentage of free space\n",
    "    percent_free=100* du.free/ du.total\n",
    "    # Calculate how many free gigabytes (1GB = 2^30 B)\n",
    "    gigabytes_free= du.free/2**30\n",
    "    if percent_free < min_percent or gigabytes_free < min_gb:\n",
    "        return False\n",
    "    return True\n",
    "\n",
    "def check_root_full():\n",
    "    \"\"\"Returnns True if the root partition is full, false otherwise\"\"\"\n",
    "    return check_disk_full(disk='/', min_gb=2, min_percent=10)\n",
    "\n",
    "def main():\n",
    "    checks=[\n",
    "        (check_reboot, \"Pending Reboot\"),\n",
    "        (check_root_full, \"Root partion full\")\n",
    "    ]\n",
    "    everything_ok=True\n",
    "    for check, msg in checks:\n",
    "        if check():\n",
    "            print(msg)\n",
    "            everything_ok=False\n",
    "    if not everything_ok:\n",
    "        sys.exit(1)\n",
    "            \n",
    "    print (\"Everything ok\")\n",
    "    sys.exit(0)\n",
    "main()"
   ]
  },
  {
   "cell_type": "code",
   "execution_count": 3,
   "id": "afc104e6",
   "metadata": {},
   "outputs": [
    {
     "name": "stdout",
     "output_type": "stream",
     "text": [
      "Root partion full\n"
     ]
    },
    {
     "ename": "SystemExit",
     "evalue": "1",
     "output_type": "error",
     "traceback": [
      "An exception has occurred, use %tb to see the full traceback.\n",
      "\u001b[1;31mSystemExit\u001b[0m\u001b[1;31m:\u001b[0m 1\n"
     ]
    }
   ],
   "source": [
    "#!/usr/bin/env python3\n",
    "import shutil\n",
    "import os\n",
    "import sys\n",
    "import socket\n",
    "def check_reboot():\n",
    "    \"\"\"Returns True if the computer has a pending reboot.\"\"\"\n",
    "    return os.path.exists(\"/run/reboot-required\")\n",
    "\n",
    "def check_disk_full(disk, min_gb, min_percent):\n",
    "    \"\"\"Returnns True if there is enough free disk space, false otherwise\"\"\"\n",
    "    du =shutil.disk_usage(disk)\n",
    "    # Calculate the percentage of free space\n",
    "    percent_free=100* du.free/ du.total\n",
    "    # Calculate how many free gigabytes (1GB = 2^30 B)\n",
    "    gigabytes_free= du.free/2**30\n",
    "    if percent_free < min_percent or gigabytes_free < min_gb:\n",
    "        return False\n",
    "    return True\n",
    "\n",
    "def check_root_full():\n",
    "    \"\"\"Returnns True if the root partition is full, false otherwise\"\"\"\n",
    "    return check_disk_full(disk='/', min_gb=2, min_percent=10)\n",
    "def check_no_network():\n",
    "    \"\"\"Returnns True if it fails to resolve Google's URL, false otherwise\"\"\"\n",
    "    try:\n",
    "        socket.gethostbyname(\"www.google.com\")\n",
    "        return False\n",
    "    except:\n",
    "        return True\n",
    "    \n",
    "def main():\n",
    "    checks=[\n",
    "        (check_reboot, \"Pending Reboot\"),\n",
    "        (check_root_full, \"Root partion full\"),\n",
    "        (check_no_network, \"No working network.\")\n",
    "    ]\n",
    "    everything_ok=True\n",
    "    for check, msg in checks:\n",
    "        if check():\n",
    "            print(msg)\n",
    "            everything_ok=False\n",
    "    if not everything_ok:\n",
    "        sys.exit(1)\n",
    "            \n",
    "    print (\"Everything ok\")\n",
    "    sys.exit(0)\n",
    "main()"
   ]
  },
  {
   "cell_type": "code",
   "execution_count": 6,
   "id": "1b23949d",
   "metadata": {},
   "outputs": [
    {
     "name": "stdout",
     "output_type": "stream",
     "text": [
      "Root partion full\n"
     ]
    },
    {
     "ename": "SystemExit",
     "evalue": "1",
     "output_type": "error",
     "traceback": [
      "An exception has occurred, use %tb to see the full traceback.\n",
      "\u001b[1;31mSystemExit\u001b[0m\u001b[1;31m:\u001b[0m 1\n"
     ]
    }
   ],
   "source": [
    "#!/usr/bin/env python3\n",
    "import shutil\n",
    "import os\n",
    "import sys\n",
    "import socket\n",
    "import psutil\n",
    "def check_reboot():\n",
    "    \"\"\"Returns True if the computer has a pending reboot.\"\"\"\n",
    "    return os.path.exists(\"/run/reboot-required\")\n",
    "\n",
    "def check_disk_full(disk, min_gb, min_percent):\n",
    "    \"\"\"Returnns True if there is enough free disk space, false otherwise\"\"\"\n",
    "    du =shutil.disk_usage(disk)\n",
    "    # Calculate the percentage of free space\n",
    "    percent_free=100* du.free/ du.total\n",
    "    # Calculate how many free gigabytes (1GB = 2^30 B)\n",
    "    gigabytes_free= du.free/2**30\n",
    "    if percent_free < min_percent or gigabytes_free < min_gb:\n",
    "        return False\n",
    "    return True\n",
    "\n",
    "def check_root_full():\n",
    "    \"\"\"Returnns True if the root partition is full, false otherwise\"\"\"\n",
    "    return check_disk_full(disk='/', min_gb=2, min_percent=10)\n",
    "def check_no_network():\n",
    "    \"\"\"Returnns True if it fails to resolve Google's URL, false otherwise\"\"\"\n",
    "    try:\n",
    "        socket.gethostbyname(\"www.google.com\")\n",
    "        return False\n",
    "    except:\n",
    "        return True\n",
    "def check_cpu_constrained():\n",
    "    \"\"\"Returnns True if the CPU is having too much usage, false otherwise\"\"\"\n",
    "    return psutil.cpu_percent(1) >75\n",
    "def main():\n",
    "    checks=[\n",
    "        (check_reboot, \"Pending Reboot\"),\n",
    "        (check_root_full, \"Root partion full\"),\n",
    "        (check_no_network, \"No working network.\"),\n",
    "        (check_cpu_constrained, \"CPU load to high\")\n",
    "    ]\n",
    "    everything_ok=True\n",
    "    for check, msg in checks:\n",
    "        if check():\n",
    "            print(msg)\n",
    "            everything_ok=False\n",
    "    if not everything_ok:\n",
    "        sys.exit(1)\n",
    "            \n",
    "    print (\"Everything ok\")\n",
    "    sys.exit(0)\n",
    "main()"
   ]
  },
  {
   "cell_type": "code",
   "execution_count": null,
   "id": "d84512a7",
   "metadata": {},
   "outputs": [],
   "source": [
    "x = int(input('Enter x= '))\n",
    "y = int(input('Enter y= '))\n",
    "z = int(input('Enter z= '))\n",
    "n = int(input('Enter n= '))\n",
    "result=[]\n",
    "for i in range(x+1):\n",
    "    for j in range (y+1):\n",
    "        for k in range (z+1):\n",
    "            if (i+j+k) != n:\n",
    "                result.append([i,j,k])\n",
    "print(result)"
   ]
  },
  {
   "cell_type": "code",
   "execution_count": null,
   "id": "3d44c7da",
   "metadata": {},
   "outputs": [],
   "source": []
  }
 ],
 "metadata": {
  "kernelspec": {
   "display_name": "Python 3 (ipykernel)",
   "language": "python",
   "name": "python3"
  },
  "language_info": {
   "codemirror_mode": {
    "name": "ipython",
    "version": 3
   },
   "file_extension": ".py",
   "mimetype": "text/x-python",
   "name": "python",
   "nbconvert_exporter": "python",
   "pygments_lexer": "ipython3",
   "version": "3.10.9"
  }
 },
 "nbformat": 4,
 "nbformat_minor": 5
}
