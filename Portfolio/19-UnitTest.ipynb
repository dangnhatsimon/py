{
 "cells": [
  {
   "cell_type": "code",
   "execution_count": 2,
   "id": "1c052cbd",
   "metadata": {},
   "outputs": [
    {
     "data": {
      "text/plain": [
       "'Ada Lovelace'"
      ]
     },
     "execution_count": 2,
     "metadata": {},
     "output_type": "execute_result"
    }
   ],
   "source": [
    "#rearrange.py\n",
    "import re\n",
    "def rearrange_name(name):\n",
    "    result = re.search(r\"^([\\w .]*), ([\\w .]*)$\", name)\n",
    "    return \"{} {}\".format(result[2], result[1])\n",
    "rearrange_name(\"Lovelace, Ada\")"
   ]
  },
  {
   "cell_type": "code",
   "execution_count": 3,
   "id": "83e17850",
   "metadata": {},
   "outputs": [
    {
     "ename": "ModuleNotFoundError",
     "evalue": "No module named 'rearrange'",
     "output_type": "error",
     "traceback": [
      "\u001b[1;31m---------------------------------------------------------------------------\u001b[0m",
      "\u001b[1;31mModuleNotFoundError\u001b[0m                       Traceback (most recent call last)",
      "Cell \u001b[1;32mIn[3], line 1\u001b[0m\n\u001b[1;32m----> 1\u001b[0m \u001b[38;5;28;01mfrom\u001b[39;00m \u001b[38;5;21;01mrearrange\u001b[39;00m \u001b[38;5;28;01mimport\u001b[39;00m rearrange_name\n\u001b[0;32m      2\u001b[0m \u001b[38;5;28;01mimport\u001b[39;00m \u001b[38;5;21;01munittest\u001b[39;00m\n\u001b[0;32m      3\u001b[0m \u001b[38;5;28;01mclass\u001b[39;00m \u001b[38;5;21;01mTestRearrange\u001b[39;00m(unittest\u001b[38;5;241m.\u001b[39mTestCase):\n",
      "\u001b[1;31mModuleNotFoundError\u001b[0m: No module named 'rearrange'"
     ]
    }
   ],
   "source": [
    "from rearrange import rearrange_name\n",
    "import unittest\n",
    "class TestRearrange(unittest.TestCase):\n",
    "    def test_basic(self):\n",
    "        testcase = \"Lovelace, Ada\"\n",
    "        expected = \"Ada Lovelave\"\n",
    "        self.assertEqual(rearrange_name(testcase), expected)\n",
    "unittest.main()\n"
   ]
  },
  {
   "cell_type": "code",
   "execution_count": 4,
   "id": "b92e078b",
   "metadata": {},
   "outputs": [
    {
     "ename": "ModuleNotFoundError",
     "evalue": "No module named 'rearrange'",
     "output_type": "error",
     "traceback": [
      "\u001b[1;31m---------------------------------------------------------------------------\u001b[0m",
      "\u001b[1;31mModuleNotFoundError\u001b[0m                       Traceback (most recent call last)",
      "Cell \u001b[1;32mIn[4], line 1\u001b[0m\n\u001b[1;32m----> 1\u001b[0m \u001b[38;5;28;01mfrom\u001b[39;00m \u001b[38;5;21;01mrearrange\u001b[39;00m \u001b[38;5;28;01mimport\u001b[39;00m rearrange_name\n\u001b[0;32m      2\u001b[0m \u001b[38;5;28;01mimport\u001b[39;00m \u001b[38;5;21;01munittest\u001b[39;00m\n\u001b[0;32m      3\u001b[0m \u001b[38;5;28;01mclass\u001b[39;00m \u001b[38;5;21;01mTestRearrange\u001b[39;00m(unittest\u001b[38;5;241m.\u001b[39mTestCase):\n",
      "\u001b[1;31mModuleNotFoundError\u001b[0m: No module named 'rearrange'"
     ]
    }
   ],
   "source": [
    "from rearrange import rearrange_name\n",
    "import unittest\n",
    "class TestRearrange(unittest.TestCase):\n",
    "    def test_basic(self):\n",
    "        testcase = \"Lovelace, Ada\"\n",
    "        expected = \"Ada Lovelave\"\n",
    "        self.assertEqual(rearrange_name(testcase), expected)\n",
    "    def test_empty(self):\n",
    "        testcase = \"\"\n",
    "        expected= \"\"\n",
    "        self.assertEqual(rearrange_name(testcase), expected)\n",
    "unittest.main()\n"
   ]
  },
  {
   "cell_type": "code",
   "execution_count": 5,
   "id": "3239bc64",
   "metadata": {},
   "outputs": [
    {
     "data": {
      "text/plain": [
       "'Ada Lovelace'"
      ]
     },
     "execution_count": 5,
     "metadata": {},
     "output_type": "execute_result"
    }
   ],
   "source": [
    "#rearrange.py\n",
    "import re\n",
    "def rearrange_name(name):\n",
    "    result = re.search(r\"^([\\w .]*), ([\\w .]*)$\", name)\n",
    "    if result is None:\n",
    "        return \"\"\n",
    "    return \"{} {}\".format(result[2], result[1])\n",
    "rearrange_name(\"Lovelace, Ada\")"
   ]
  },
  {
   "cell_type": "code",
   "execution_count": 6,
   "id": "39d665e6",
   "metadata": {},
   "outputs": [
    {
     "ename": "SyntaxError",
     "evalue": "invalid syntax (944709944.py, line 15)",
     "output_type": "error",
     "traceback": [
      "\u001b[1;36m  Cell \u001b[1;32mIn[6], line 15\u001b[1;36m\u001b[0m\n\u001b[1;33m    self.assertEqual(rearrange_name(testcase), expected).\u001b[0m\n\u001b[1;37m                                                         ^\u001b[0m\n\u001b[1;31mSyntaxError\u001b[0m\u001b[1;31m:\u001b[0m invalid syntax\n"
     ]
    }
   ],
   "source": [
    "from rearrange import rearrange_name\n",
    "import unittest\n",
    "class TestRearrange(unittest.TestCase):\n",
    "    def test_basic(self):\n",
    "        testcase = \"Lovelace, Ada\"\n",
    "        expected = \"Ada Lovelave\"\n",
    "        self.assertEqual(rearrange_name(testcase), expected)\n",
    "    def test_empty(self):\n",
    "        testcase = \"\"\n",
    "        expected= \"\"\n",
    "        self.assertEqual(rearrange_name(testcase), expected)\n",
    "    def test_double_name(self):\n",
    "        testcase = \"Hopper, Grace M.\"\n",
    "        expected= \"Grace M. Hopper\"\n",
    "        self.assertEqual(rearrange_name(testcase), expected).\n",
    "    def test_one_name(self):\n",
    "        testcase = \"Voltaire\"\n",
    "        expected= \"Voltaire\"\n",
    "        self.assertEqual(rearrange_name(testcase), expected)\n",
    "\n",
    "unittest.main()\n"
   ]
  },
  {
   "cell_type": "code",
   "execution_count": 7,
   "id": "c21ade94",
   "metadata": {},
   "outputs": [
    {
     "data": {
      "text/plain": [
       "'Ada Lovelace'"
      ]
     },
     "execution_count": 7,
     "metadata": {},
     "output_type": "execute_result"
    }
   ],
   "source": [
    "#rearrange.py\n",
    "import re\n",
    "def rearrange_name(name):\n",
    "    result = re.search(r\"^([\\w .]*), ([\\w .]*)$\", name)\n",
    "    if result is None:\n",
    "        return name\n",
    "    return \"{} {}\".format(result[2], result[1])\n",
    "rearrange_name(\"Lovelace, Ada\")"
   ]
  },
  {
   "cell_type": "code",
   "execution_count": 8,
   "id": "601a6236",
   "metadata": {},
   "outputs": [
    {
     "name": "stdout",
     "output_type": "stream",
     "text": [
      "['a', 'b']\n"
     ]
    }
   ],
   "source": [
    "import re \n",
    "  \n",
    "my_txt = \"An investment in knowledge pays the best interest.\"\n",
    "\n",
    "def LetterCompiler(txt):\n",
    "    result = re.findall(r'([a-c]).', txt)\n",
    "    return result\n",
    "\n",
    "print(LetterCompiler(my_txt))"
   ]
  },
  {
   "cell_type": "code",
   "execution_count": 10,
   "id": "d3a7020c",
   "metadata": {},
   "outputs": [
    {
     "name": "stderr",
     "output_type": "stream",
     "text": [
      "E\n",
      "======================================================================\n",
      "ERROR: C:\\Users\\DE01\\AppData\\Roaming\\jupyter\\runtime\\kernel-9d10a44a-f205-47bc-a8e4-67796845570d (unittest.loader._FailedTest)\n",
      "----------------------------------------------------------------------\n",
      "AttributeError: module '__main__' has no attribute 'C:\\Users\\DE01\\AppData\\Roaming\\jupyter\\runtime\\kernel-9d10a44a-f205-47bc-a8e4-67796845570d'\n",
      "\n",
      "----------------------------------------------------------------------\n",
      "Ran 1 test in 0.001s\n",
      "\n",
      "FAILED (errors=1)\n"
     ]
    },
    {
     "ename": "SystemExit",
     "evalue": "True",
     "output_type": "error",
     "traceback": [
      "An exception has occurred, use %tb to see the full traceback.\n",
      "\u001b[1;31mSystemExit\u001b[0m\u001b[1;31m:\u001b[0m True\n"
     ]
    },
    {
     "name": "stderr",
     "output_type": "stream",
     "text": [
      "C:\\ProgramData\\anaconda3\\lib\\site-packages\\IPython\\core\\interactiveshell.py:3468: UserWarning: To exit: use 'exit', 'quit', or Ctrl-D.\n",
      "  warn(\"To exit: use 'exit', 'quit', or Ctrl-D.\", stacklevel=1)\n"
     ]
    }
   ],
   "source": [
    "import unittest\n",
    "\n",
    "class TestCompiler(unittest.TestCase):\n",
    "\n",
    "    def test_basic(self):\n",
    "        testcase = \"The best preparation for tomorrow is doing your best today.\"\n",
    "        expected = ['b', 'a', 'a', 'b', 'a']\n",
    "        self.assertEqual(LetterCompiler(testcase), expected)\n",
    "unittest.main()\n",
    "#SystemExit: True means an error occurred, as expected. The reason is that unittest.main( ) looks at sys.argv. \n",
    "#In Jupyter, by default, the first parameter of sys.argv is what started the Jupyter kernel which is not the case when executing it from the command line. \n",
    "#This default parameter is passed into unittest.main( ) as an attribute when you don't explicitly pass it attributes and is therefore what causes the error about the kernel connection file not being a valid attribute. \n",
    "#Passing an explicit list to unittest.main( ) prevents it from looking at sys.argv."
   ]
  },
  {
   "cell_type": "code",
   "execution_count": 11,
   "id": "c9bee5f9",
   "metadata": {},
   "outputs": [
    {
     "name": "stderr",
     "output_type": "stream",
     "text": [
      ".\n",
      "----------------------------------------------------------------------\n",
      "Ran 1 test in 0.001s\n",
      "\n",
      "OK\n"
     ]
    },
    {
     "data": {
      "text/plain": [
       "<unittest.main.TestProgram at 0x12d26554d00>"
      ]
     },
     "execution_count": 11,
     "metadata": {},
     "output_type": "execute_result"
    }
   ],
   "source": [
    "import unittest\n",
    "\n",
    "class TestCompiler(unittest.TestCase):\n",
    "\n",
    "    def test_basic(self):\n",
    "        testcase = \"The best preparation for tomorrow is doing your best today.\"\n",
    "        expected = ['b', 'a', 'a', 'b', 'a']\n",
    "        self.assertEqual(LetterCompiler(testcase), expected)\n",
    "unittest.main(argv = ['first-arg-is-ignored'], exit = False)"
   ]
  },
  {
   "cell_type": "code",
   "execution_count": 12,
   "id": "099ed763",
   "metadata": {},
   "outputs": [
    {
     "name": "stderr",
     "output_type": "stream",
     "text": [
      "..\n",
      "----------------------------------------------------------------------\n",
      "Ran 2 tests in 0.002s\n",
      "\n",
      "OK\n"
     ]
    },
    {
     "data": {
      "text/plain": [
       "<unittest.main.TestProgram at 0x12d275c1f00>"
      ]
     },
     "execution_count": 12,
     "metadata": {},
     "output_type": "execute_result"
    }
   ],
   "source": [
    "class TestCompiler2(unittest.TestCase):\n",
    "    \n",
    "    def test_two(self):\n",
    "        testcase = \"A b c d e f g h i j k l m n o q r s t u v w x y z\"\n",
    "        expected = ['b', 'c']\n",
    "        self.assertEqual(LetterCompiler(testcase), expected)\n",
    "\n",
    "# EDGE CASES HERE\n",
    "\n",
    "unittest.main(argv = ['first-arg-is-ignored'], exit = False)"
   ]
  },
  {
   "cell_type": "code",
   "execution_count": null,
   "id": "af24ca86",
   "metadata": {},
   "outputs": [],
   "source": []
  }
 ],
 "metadata": {
  "kernelspec": {
   "display_name": "Python 3 (ipykernel)",
   "language": "python",
   "name": "python3"
  },
  "language_info": {
   "codemirror_mode": {
    "name": "ipython",
    "version": 3
   },
   "file_extension": ".py",
   "mimetype": "text/x-python",
   "name": "python",
   "nbconvert_exporter": "python",
   "pygments_lexer": "ipython3",
   "version": "3.10.9"
  }
 },
 "nbformat": 4,
 "nbformat_minor": 5
}
