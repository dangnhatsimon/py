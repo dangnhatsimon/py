{
 "cells": [
  {
   "cell_type": "code",
   "execution_count": 9,
   "id": "68cf4629",
   "metadata": {},
   "outputs": [],
   "source": [
    "#!/usr/bin/env python3\n",
    "import re\n",
    "import csv\n",
    "import operator\n",
    "import sys\n",
    "\n",
    "per_users = {}\n",
    "errors = {}\n",
    "\n",
    "logfile = 'syslog.log.txt'\n",
    "errorfile = 'error_message.csv'\n",
    "userfile = 'user_statistics.csv'\n",
    "pattern = r'ticky: (\\w*):? ([\\w\\' ]*) [\\[[0-9#]*\\]?]? ?\\(([\\w\\.]*)\\)$'\n",
    "with open(logfile, 'r') as syslog:\n",
    "    for log in syslog:\n",
    "        result = re.search(pattern, log)\n",
    "        if result[2] not in errors.keys():\n",
    "            errors[result[2]] = 0\n",
    "        errors[result[2]] += 1\n",
    "        if result[3] not in per_users.keys():\n",
    "            per_users[result[3]] = {}\n",
    "            per_users[result[3]] ['INFO'] = 0\n",
    "            per_users[result[3]] ['ERROR'] = 0\n",
    "\n",
    "        if result[1] == \"INFO\":\n",
    "            per_users[result[3]][\"INFO\"] += 1\n",
    "        elif result[1] == \"ERROR\":\n",
    "            per_users[result[3]][\"ERROR\"] += 1\n",
    "\n",
    "    errors = sorted(errors.items(), key = operator.itemgetter(1), reverse= True)\n",
    "    per_users = sorted(per_users.items())\n",
    "\n",
    "\n",
    "errors.insert(0, ('Error', 'Count'))\n",
    "\n",
    "with open(errorfile, 'w') as f:\n",
    "    for error in errors:\n",
    "        a,b=error\n",
    "        f.write(str(a)+','+str(b)+'\\n')\n",
    "\n",
    "with open(userfile, 'w') as f:\n",
    "    f.write(\"Username,INFO,ERROR\\n\")\n",
    "    for stats in per_users:\n",
    "        a,b = stats\n",
    "        f.write(str(a)+','+str(b[\"INFO\"])+','+str(b[\"ERROR\"])+'\\n')"
   ]
  },
  {
   "cell_type": "code",
   "execution_count": 12,
   "id": "02d60cc8",
   "metadata": {},
   "outputs": [
    {
     "data": {
      "text/plain": [
       "list"
      ]
     },
     "execution_count": 12,
     "metadata": {},
     "output_type": "execute_result"
    }
   ],
   "source": [
    "type(errors)"
   ]
  },
  {
   "cell_type": "code",
   "execution_count": 11,
   "id": "e3c2dc25",
   "metadata": {},
   "outputs": [
    {
     "data": {
      "text/plain": [
       "list"
      ]
     },
     "execution_count": 11,
     "metadata": {},
     "output_type": "execute_result"
    }
   ],
   "source": [
    "type(per_users)"
   ]
  },
  {
   "cell_type": "code",
   "execution_count": 13,
   "id": "31dd2f0f",
   "metadata": {},
   "outputs": [
    {
     "data": {
      "text/plain": [
       "tuple"
      ]
     },
     "execution_count": 13,
     "metadata": {},
     "output_type": "execute_result"
    }
   ],
   "source": [
    "type(error)"
   ]
  },
  {
   "cell_type": "code",
   "execution_count": 14,
   "id": "cf4262e4",
   "metadata": {},
   "outputs": [
    {
     "data": {
      "text/plain": [
       "tuple"
      ]
     },
     "execution_count": 14,
     "metadata": {},
     "output_type": "execute_result"
    }
   ],
   "source": [
    "type(stats)"
   ]
  },
  {
   "cell_type": "code",
   "execution_count": 3,
   "id": "6e1d1a4f",
   "metadata": {},
   "outputs": [
    {
     "name": "stdout",
     "output_type": "stream",
     "text": [
      "breee\n"
     ]
    }
   ],
   "source": [
    "import re\n",
    "val=re.search(r\"ticky: (\\w*):? ([\\w\\' ]*) [\\[[0-9#]*\\]?]? ?\\(([\\w\\.]*)\\)$\", \"Jan 31 00:21:30 ubuntu.local ticky: ERROR The ticket was modified while updating (breee)\")\n",
    "if val:\n",
    "    val = val[3]\n",
    "print(val)"
   ]
  },
  {
   "cell_type": "code",
   "execution_count": 4,
   "id": "11ae7cb4",
   "metadata": {},
   "outputs": [
    {
     "data": {
      "text/plain": [
       "<re.Match object; span=(0, 0), match=''>"
      ]
     },
     "execution_count": 4,
     "metadata": {},
     "output_type": "execute_result"
    }
   ],
   "source": [
    "import re\n",
    "re.search(r\"[\\w\\.]*\", \"( mai.hendrix )\")"
   ]
  },
  {
   "cell_type": "code",
   "execution_count": 21,
   "id": "f107c41c",
   "metadata": {},
   "outputs": [
    {
     "name": "stdout",
     "output_type": "stream",
     "text": [
      "\n"
     ]
    }
   ],
   "source": [
    "match = re.search(r\"([\\w\\.]*)\", '(mai.hendrix)')\n",
    "if match:\n",
    "    result = match.group(1)\n",
    "print(result)"
   ]
  },
  {
   "cell_type": "code",
   "execution_count": null,
   "id": "6fbc2b6c",
   "metadata": {},
   "outputs": [],
   "source": []
  },
  {
   "cell_type": "code",
   "execution_count": null,
   "id": "3d2cc1b8",
   "metadata": {},
   "outputs": [],
   "source": []
  }
 ],
 "metadata": {
  "kernelspec": {
   "display_name": "Python 3 (ipykernel)",
   "language": "python",
   "name": "python3"
  },
  "language_info": {
   "codemirror_mode": {
    "name": "ipython",
    "version": 3
   },
   "file_extension": ".py",
   "mimetype": "text/x-python",
   "name": "python",
   "nbconvert_exporter": "python",
   "pygments_lexer": "ipython3",
   "version": "3.10.9"
  }
 },
 "nbformat": 4,
 "nbformat_minor": 5
}
