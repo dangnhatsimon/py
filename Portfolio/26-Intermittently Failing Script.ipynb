{
 "cells": [
  {
   "cell_type": "code",
   "execution_count": 1,
   "id": "2b33f4a8",
   "metadata": {},
   "outputs": [
    {
     "ename": "SyntaxError",
     "evalue": "invalid syntax (503198402.py, line 2)",
     "output_type": "error",
     "traceback": [
      "\u001b[1;36m  Cell \u001b[1;32mIn[1], line 2\u001b[1;36m\u001b[0m\n\u001b[1;33m    meeting_info=$(zenity --forms\\\u001b[0m\n\u001b[1;37m                 ^\u001b[0m\n\u001b[1;31mSyntaxError\u001b[0m\u001b[1;31m:\u001b[0m invalid syntax\n"
     ]
    }
   ],
   "source": [
    "#!/bin/bash\n",
    "\n",
    "meeting_info=$(zenity --forms\\\n",
    "              --title 'Meeting' --text 'Reminder information'\\\n",
    "              --add-calendat 'Date' --add-entry 'Title'\\\n",
    "               --add-entry 'Emails' \\\n",
    "               --forms-date-format='%Y-%m-%d'\\\n",
    "              2>/dev/null)\n",
    "\n",
    "echo $meeting_info\n",
    "\n",
    "if [[-n \"$meeting_info\"]]; then\n",
    "    python3 send_reminders.py \"$meeting_info\"\n",
    "fi"
   ]
  },
  {
   "cell_type": "code",
   "execution_count": 2,
   "id": "e1036a51",
   "metadata": {},
   "outputs": [
    {
     "name": "stderr",
     "output_type": "stream",
     "text": [
      "Failure to send email with: not enough values to unpack (expected 3, got 1)\n"
     ]
    },
    {
     "ename": "SystemExit",
     "evalue": "",
     "output_type": "error",
     "traceback": [
      "An exception has occurred, use %tb to see the full traceback.\n",
      "\u001b[1;31mSystemExit\u001b[0m\n"
     ]
    },
    {
     "name": "stderr",
     "output_type": "stream",
     "text": [
      "C:\\ProgramData\\anaconda3\\lib\\site-packages\\IPython\\core\\interactiveshell.py:3468: UserWarning: To exit: use 'exit', 'quit', or Ctrl-D.\n",
      "  warn(\"To exit: use 'exit', 'quit', or Ctrl-D.\", stacklevel=1)\n"
     ]
    }
   ],
   "source": [
    "#!/usr/bin/env python3\n",
    "#To trigger the error, LANG=en_US.UTF-8\n",
    "\n",
    "import datetime\n",
    "import email\n",
    "import smtplib\n",
    "import sys\n",
    "\n",
    "def usage():\n",
    "    print(\"sned_reminders: Send meeting reminders\")\n",
    "    print()\n",
    "    print(\"invocation:\")\n",
    "    print(\"    send_reminders 'date|Metting Tilte|Emails' \")\n",
    "    return 1\n",
    "\n",
    "def down(date):\n",
    "    dateobj= datetime.datetime.strptime(date, r\"%Y-%m-%d\")\n",
    "    return dateobj.strftime(\"%A\")\n",
    "\n",
    "def message_template(date, title):\n",
    "    massage=email.massage.EmailMessage()\n",
    "    weekday=dow(date)\n",
    "    message['Subject']=f'Meeting reminder: \"{title}\"'\n",
    "    message.set_content(f'''\n",
    "    Hi all!\n",
    "    \n",
    "    This is  a quick mail to remind you all that we have a meeting about:\n",
    "    \"{title}\"\n",
    "    the {weekday} {date}\n",
    "    See you there.\n",
    "    ''')\n",
    "    return message\n",
    "\n",
    "def send_message(message, emails):\n",
    "    smtp=smtplib.SMTP('localhost')\n",
    "    message['From']= 'noreply@example.com'\n",
    "    for email in emails.split(','):\n",
    "        del message['To']\n",
    "        message['To']=email\n",
    "        smtp.send_message(message)\n",
    "    smtp.quit()\n",
    "    pass\n",
    "\n",
    "def main():\n",
    "    if len(sys.argv)<2:\n",
    "        return usage()\n",
    "    try:\n",
    "        date, title, emails=sys.argv[1].split('|')\n",
    "        message=message_template(date, title)\n",
    "        send_message(message,emails)\n",
    "        print(\"Successfully send reminders to: \", emails)\n",
    "    except Exception as e:\n",
    "        print(\"Failure to send email with: {}\".format(e), file=sys.stderr)\n",
    "        \n",
    "if __name__==\"__main__\":\n",
    "    sys.exit(main())\n",
    "    "
   ]
  },
  {
   "cell_type": "code",
   "execution_count": 7,
   "id": "510e0b06",
   "metadata": {},
   "outputs": [
    {
     "name": "stdout",
     "output_type": "stream",
     "text": [
      "have a great day\n",
      "have a great day\n",
      "True\n",
      "its raining again\n",
      "its raining again\n",
      "True\n",
      "learn to count 1 2 3\n",
      "learn to count one two three\n",
      "False\n",
      "they found some body\n",
      "they found somebody\n",
      "False\n"
     ]
    }
   ],
   "source": [
    "import re\n",
    "def compare_strings(string1, string2):\n",
    "  #Convert both strings to lowercase \n",
    "  #and remove leading and trailing blanks\n",
    "  string1 = string1.lower().strip()\n",
    "  string2 = string2.lower().strip()\n",
    "\n",
    "  #Ignore punctuation\n",
    "  punctuation = r\"[.?!,;:'-]\"\n",
    "  string1 = re.sub(punctuation,\"\", string1)\n",
    "  string2 = re.sub(punctuation,\"\", string2)\n",
    "\n",
    "  #DEBUG CODE GOES HERE\n",
    "  print(string1)\n",
    "  print(string2)\n",
    "  return string1 == string2\n",
    "\n",
    "print(compare_strings(\"Have a Great Day!\", \"Have a great day?\")) # True\n",
    "print(compare_strings(\"It's raining again.\", \"its raining, again\")) # True\n",
    "print(compare_strings(\"Learn to count: 1, 2, 3.\", \"Learn to count: one, two, three.\")) # False\n",
    "print(compare_strings(\"They found some body.\", \"They found somebody.\")) # False"
   ]
  },
  {
   "cell_type": "code",
   "execution_count": 9,
   "id": "25d9d438",
   "metadata": {},
   "outputs": [
    {
     "name": "stdout",
     "output_type": "stream",
     "text": [
      "2024-07-25\n",
      "2022-01-01\n",
      "2024-02-29\n"
     ]
    }
   ],
   "source": [
    "import datetime\n",
    "from datetime import date\n",
    "\n",
    "def add_year(date_obj):\n",
    "  try:\n",
    "    new_date_obj = date_obj.replace(year = date_obj.year + 1)\n",
    "  except ValueError:\n",
    "    # This gets executed when the above method fails, \n",
    "    # which means that we're making a Leap Year calculation\n",
    "    new_date_obj = date_obj.replace(year = date_obj.year + 4)\n",
    "  return new_date_obj\n",
    "\n",
    "def next_date(date_string):\n",
    "  # Convert the argument from string to date object\n",
    "  date_obj = datetime.datetime.strptime(date_string, r\"%Y-%m-%d\")\n",
    "  next_date_obj = add_year(date_obj)\n",
    "\n",
    "  # Convert the datetime object to string, \n",
    "  # in the format of \"yyyy-mm-dd\"\n",
    "  next_date_string = next_date_obj.strftime(\"%Y-%m-%d\")\n",
    "  return next_date_string\n",
    "\n",
    "today = date.today()  # Get today's date\n",
    "print(next_date(str(today))) \n",
    "# Should return a year from today, unless today is Leap Day\n",
    "\n",
    "print(next_date(\"2021-01-01\")) # Should return 2022-01-01\n",
    "print(next_date(\"2020-02-29\")) # Should return 2024-02-29"
   ]
  },
  {
   "cell_type": "code",
   "execution_count": 10,
   "id": "f6169786",
   "metadata": {},
   "outputs": [],
   "source": [
    "def linear_search(list, key):\n",
    "    \"\"\"If key is in the list returns its position in the list,\n",
    "       otherwise returns -1.\"\"\"\n",
    "    for i, item in enumerate(list):\n",
    "        if item == key:\n",
    "            return i\n",
    "    return -1"
   ]
  },
  {
   "cell_type": "code",
   "execution_count": 11,
   "id": "b4c634af",
   "metadata": {},
   "outputs": [],
   "source": [
    "def binary_search(list, key):\n",
    "    \"\"\"Returns the position of key in the list if found, -1 otherwise.\n",
    "\n",
    "    List must be sorted.\n",
    "    \"\"\"\n",
    "    left = 0\n",
    "    right = len(list) - 1\n",
    "    while left <= right:\n",
    "        middle = (left + right) // 2\n",
    "        \n",
    "        if list[middle] == key:\n",
    "            return middle\n",
    "        if list[middle] > key:\n",
    "            right = middle - 1\n",
    "        if list[middle] < key:\n",
    "            left = middle + 1\n",
    "    return -1\n"
   ]
  },
  {
   "cell_type": "code",
   "execution_count": 24,
   "id": "7653d678",
   "metadata": {},
   "outputs": [
    {
     "name": "stdout",
     "output_type": "stream",
     "text": [
      "True\n",
      "False\n",
      "True\n",
      "False\n"
     ]
    }
   ],
   "source": [
    "def find_item(list, item):\n",
    "  #Returns True if the item is in the list, False if not.\n",
    "  if len(list) == 0:\n",
    "    return False\n",
    "  list.sort()\n",
    "  #Is the item in the center of the list?\n",
    "  middle = len(list)//2 \n",
    "  if list[middle] == item:\n",
    "    return True\n",
    "\n",
    "  #Is the item in the first half of the list? \n",
    "  if item < list[middle]:\n",
    "    #Call the function with the first half of the list\n",
    "    return find_item(list[:middle], item)\n",
    "  else:\n",
    "    #Call the function with the second half of the list\n",
    "    return find_item(list[middle+1:], item)\n",
    "\n",
    "  return False\n",
    "\n",
    "#Do not edit below this line - This code helps check your work!\n",
    "list_of_names = [\"Parker\", \"Drew\", \"Cameron\", \"Logan\", \"Alex\", \"Chris\", \"Terry\", \"Jamie\", \"Jordan\", \"Taylor\"]\n",
    "\n",
    "print(find_item(list_of_names, \"Alex\")) # True\n",
    "print(find_item(list_of_names, \"Andrew\")) # False\n",
    "print(find_item(list_of_names, \"Drew\")) # True\n",
    "print(find_item(list_of_names, \"Jared\")) # False"
   ]
  },
  {
   "cell_type": "code",
   "execution_count": 23,
   "id": "56aa4a39",
   "metadata": {},
   "outputs": [
    {
     "name": "stdout",
     "output_type": "stream",
     "text": [
      "Checking the left side\n",
      "Checking the left side\n",
      "0\n",
      "4\n",
      "Checking the right side\n",
      "Checking the left side\n",
      "Checking the right side\n",
      "6\n",
      "Checking the right side\n",
      "Checking the right side\n",
      "Checking the right side\n",
      "9\n",
      "Checking the right side\n",
      "Checking the right side\n",
      "Checking the right side\n",
      "Checking the right side\n",
      "-1\n"
     ]
    },
    {
     "data": {
      "text/plain": [
       "'Should print 4 debug lines and the \"not found\" value of -1:\\nChecking the right side\\nChecking the right side\\nChecking the right side\\nChecking the right side\\n-1\\n'"
      ]
     },
     "execution_count": 23,
     "metadata": {},
     "output_type": "execute_result"
    }
   ],
   "source": [
    "def binary_search(list, key):\n",
    "    #Returns the position of key in the list if found, -1 otherwise.\n",
    "\n",
    "    #List must be sorted:\n",
    "    list.sort()\n",
    "    left = 0\n",
    "    right = len(list) - 1\n",
    "\n",
    "    while left <= right:\n",
    "        middle = (left + right) // 2\n",
    "\n",
    "        if list[middle] == key:\n",
    "            return middle\n",
    "        if list[middle] > key:\n",
    "            print(\"Checking the left side\")\n",
    "            right = middle - 1\n",
    "        if list[middle] < key:\n",
    "            print(\"Checking the right side\")\n",
    "            left = middle + 1\n",
    "    return -1 \n",
    "\n",
    "print(binary_search([10, 2, 9, 6, 7, 1, 5, 3, 4, 8], 1))\n",
    "\"\"\"Should print 2 debug lines and the return value:\n",
    "Checking the left side\n",
    "Checking the left side\n",
    "0\n",
    "\"\"\"\n",
    "\n",
    "print(binary_search([1, 2, 3, 4, 5, 6, 7, 8, 9, 10], 5))\n",
    "\"\"\"Should print no debug lines, as it's located immediately:\n",
    "4\n",
    "\"\"\"\n",
    "\n",
    "print(binary_search([10, 9, 8, 7, 6, 5, 4, 3, 2, 1], 7))\n",
    "\"\"\"Should print 3 debug lines and the return value:\n",
    "Checking the right side\n",
    "Checking the left side\n",
    "Checking the right side\n",
    "6\n",
    "\"\"\"\n",
    "\n",
    "print(binary_search([1, 3, 5, 7, 9, 10, 2, 4, 6, 8], 10))\n",
    "\"\"\"Should print 3 debug lines and the return value:\n",
    "Checking the right side\n",
    "Checking the right side\n",
    "Checking the right side\n",
    "9\n",
    "\"\"\"\n",
    "\n",
    "print(binary_search([5, 1, 8, 2, 4, 10, 7, 6, 3, 9], 11))\n",
    "\"\"\"Should print 4 debug lines and the \"not found\" value of -1:\n",
    "Checking the right side\n",
    "Checking the right side\n",
    "Checking the right side\n",
    "Checking the right side\n",
    "-1\n",
    "\"\"\""
   ]
  },
  {
   "cell_type": "code",
   "execution_count": 25,
   "id": "2d2a2028",
   "metadata": {},
   "outputs": [
    {
     "name": "stdout",
     "output_type": "stream",
     "text": [
      "Linear: 1 steps, Binary: 4 steps. Best Search is Linear.\n",
      "Linear: 4 steps, Binary: 4 steps. Result is a Tie.\n",
      "Linear: 4 steps, Binary: 5 steps. Best Search is Linear.\n",
      "Linear: 6 steps, Binary: 5 steps. Best Search is Binary.\n",
      "Linear: 10 steps, Binary: 5 steps. Best Search is Binary.\n"
     ]
    }
   ],
   "source": [
    "def linear_search(list, key):\n",
    "    #Returns the number of steps to determine if key is in the list \n",
    "\n",
    "    #Initialize the counter of steps\n",
    "    steps=0\n",
    "    for i, item in enumerate(list):\n",
    "        steps += 1\n",
    "        if item == key:\n",
    "            break\n",
    "    return steps \n",
    "\n",
    "def binary_search(list, key):\n",
    "    #Returns the number of steps to determine if key is in the list \n",
    "\n",
    "    #List must be sorted:\n",
    "    list.sort()\n",
    "\n",
    "    #The Sort was 1 step, so initialize the counter of steps to 1\n",
    "    steps=1\n",
    "\n",
    "    left = 0\n",
    "    right = len(list) - 1\n",
    "    while left <= right:\n",
    "        steps += 1\n",
    "        middle = (left + right) // 2\n",
    "        \n",
    "        if list[middle] == key:\n",
    "            break\n",
    "        if list[middle] > key:\n",
    "            right = middle - 1\n",
    "        if list[middle] < key:\n",
    "            left = middle + 1\n",
    "    return steps \n",
    "\n",
    "def best_search(list, key):\n",
    "    steps_linear = linear_search(list, key) \n",
    "    steps_binary = binary_search(list, key) \n",
    "    results = \"Linear: \" + str(steps_linear) + \" steps, \"\n",
    "    results += \"Binary: \" + str(steps_binary) + \" steps. \"\n",
    "    if (steps_linear<steps_binary):\n",
    "        results += \"Best Search is Linear.\"\n",
    "    elif (steps_linear>steps_binary):\n",
    "        results += \"Best Search is Binary.\"\n",
    "    else:\n",
    "        results += \"Result is a Tie.\"\n",
    "\n",
    "    return results\n",
    "\n",
    "print(best_search([1, 2, 3, 4, 5, 6, 7, 8, 9, 10], 1))\n",
    "#Should be: Linear: 1 steps, Binary: 4 steps. Best Search is Linear.\n",
    "\n",
    "print(best_search([10, 2, 9, 1, 7, 5, 3, 4, 6, 8], 1))\n",
    "#Should be: Linear: 4 steps, Binary: 4 steps. Result is a Tie.\n",
    "\n",
    "print(best_search([10, 9, 8, 7, 6, 5, 4, 3, 2, 1], 7))\n",
    "#Should be: Linear: 4 steps, Binary: 5 steps. Best Search is Linear.\n",
    "\n",
    "print(best_search([1, 3, 5, 7, 9, 10, 2, 4, 6, 8], 10))\n",
    "#Should be: Linear: 6 steps, Binary: 5 steps. Best Search is Binary.\n",
    "\n",
    "print(best_search([5, 1, 8, 2, 4, 10, 7, 6, 3, 9], 11))\n",
    "#Should be: Linear: 10 steps, Binary: 5 steps. Best Search is Binary."
   ]
  },
  {
   "cell_type": "code",
   "execution_count": null,
   "id": "4b087b10",
   "metadata": {},
   "outputs": [],
   "source": []
  }
 ],
 "metadata": {
  "kernelspec": {
   "display_name": "Python 3 (ipykernel)",
   "language": "python",
   "name": "python3"
  },
  "language_info": {
   "codemirror_mode": {
    "name": "ipython",
    "version": 3
   },
   "file_extension": ".py",
   "mimetype": "text/x-python",
   "name": "python",
   "nbconvert_exporter": "python",
   "pygments_lexer": "ipython3",
   "version": "3.10.9"
  }
 },
 "nbformat": 4,
 "nbformat_minor": 5
}
