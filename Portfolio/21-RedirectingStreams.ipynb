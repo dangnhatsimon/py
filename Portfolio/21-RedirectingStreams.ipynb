{
 "cells": [
  {
   "cell_type": "code",
   "execution_count": 1,
   "id": "e67d41bb",
   "metadata": {},
   "outputs": [
    {
     "data": {
      "text/plain": [
       "'D:\\\\Data Analytics\\\\Python\\\\Portfolio'"
      ]
     },
     "execution_count": 1,
     "metadata": {},
     "output_type": "execute_result"
    }
   ],
   "source": [
    "pwd"
   ]
  },
  {
   "cell_type": "code",
   "execution_count": 2,
   "id": "1c522c60",
   "metadata": {},
   "outputs": [
    {
     "ename": "SyntaxError",
     "evalue": "invalid syntax (1463676461.py, line 1)",
     "output_type": "error",
     "traceback": [
      "\u001b[1;36m  Cell \u001b[1;32mIn[2], line 1\u001b[1;36m\u001b[0m\n\u001b[1;33m    ping www.example.com\u001b[0m\n\u001b[1;37m         ^\u001b[0m\n\u001b[1;31mSyntaxError\u001b[0m\u001b[1;31m:\u001b[0m invalid syntax\n"
     ]
    }
   ],
   "source": [
    "ping www.example.com"
   ]
  },
  {
   "cell_type": "code",
   "execution_count": 3,
   "id": "67ed3d05",
   "metadata": {},
   "outputs": [
    {
     "name": "stdout",
     "output_type": "stream",
     "text": [
      " Volume in drive D is DATA\n",
      " Volume Serial Number is E45A-FBC5\n",
      "\n",
      " Directory of D:\\Data Analytics\\Python\\Portfolio\n",
      "\n"
     ]
    },
    {
     "name": "stderr",
     "output_type": "stream",
     "text": [
      "File Not Found\n"
     ]
    }
   ],
   "source": [
    "ls -l"
   ]
  },
  {
   "cell_type": "code",
   "execution_count": 4,
   "id": "9188ad52",
   "metadata": {},
   "outputs": [
    {
     "name": "stdout",
     "output_type": "stream",
     "text": [
      " Volume in drive D is DATA\n",
      " Volume Serial Number is E45A-FBC5\n",
      "\n",
      " Directory of D:\\Data Analytics\\Python\\Portfolio\n",
      "\n"
     ]
    },
    {
     "name": "stderr",
     "output_type": "stream",
     "text": [
      "File Not Found\n"
     ]
    }
   ],
   "source": [
    "ls -la"
   ]
  },
  {
   "cell_type": "code",
   "execution_count": 5,
   "id": "46cde41e",
   "metadata": {},
   "outputs": [
    {
     "name": "stdout",
     "output_type": "stream",
     "text": [
      " Volume in drive D is DATA\n",
      " Volume Serial Number is E45A-FBC5\n",
      "\n",
      " Directory of D:\\Data Analytics\\Python\\Portfolio\n",
      "\n",
      "06/27/2023  10:05 AM    <DIR>          .\n",
      "06/27/2023  10:05 AM    <DIR>          ..\n",
      "06/26/2023  03:54 PM    <DIR>          .ipynb_checkpoints\n",
      "03/13/2023  07:57 AM            29,141 10-WordCloud.ipynb\n",
      "05/22/2023  10:45 AM             4,538 11-Reading and Writing files.ipynb\n",
      "05/22/2023  10:45 AM            11,261 12-Managing Files and Directories.ipynb\n",
      "05/22/2023  10:45 AM            11,010 13-Reading and Writing CSV Files with Dictionaries.ipynb\n",
      "05/22/2023  10:45 AM            11,474 14-Regular Expression.ipynb\n",
      "06/20/2023  10:12 AM            11,847 15-Advanced Regular Expressions.ipynb\n",
      "06/19/2023  03:15 PM             4,992 16-Data Steams.ipynb\n",
      "06/20/2023  11:56 AM            23,812 17-Subprocess.ipynb\n",
      "06/22/2023  01:43 PM             9,336 18-Log Files.ipynb\n",
      "06/23/2023  11:28 AM            11,810 19-UnitTest.ipynb\n",
      "02/03/2023  11:33 AM             4,405 1-Basic.ipynb\n",
      "06/26/2023  01:45 PM            24,185 20-ErrorsExceptions.ipynb\n",
      "06/27/2023  10:05 AM             2,014 21-RedirectingStreams.ipynb\n",
      "02/03/2023  11:45 AM             7,943 2-Loops.ipynb\n",
      "02/03/2023  11:52 AM             5,397 3-String.ipynb\n",
      "02/03/2023  11:54 AM             4,346 4-List.ipynb\n",
      "02/03/2023  01:52 PM            10,385 5-Dictionaries.ipynb\n",
      "06/22/2023  04:18 PM            13,786 6-OOP.ipynb\n",
      "02/09/2023  09:54 AM             3,984 7-Methods and Classes.ipynb\n",
      "06/22/2023  04:19 PM             5,242 8-Code reuse.ipynb\n",
      "02/09/2023  02:03 PM             3,099 9-Events.ipynb\n",
      "03/13/2023  11:41 AM             2,546 Automating tasks.ipynb\n",
      "03/24/2023  02:05 PM               138 by_department.csv\n",
      "06/08/2023  01:45 PM    <DIR>          ds-content-interactive-jupyterlab-tutorial-master\n",
      "06/19/2023  01:43 PM                18 -f\n",
      "02/09/2023  03:24 PM                27 file_contents.txt\n",
      "06/21/2023  04:48 PM               904 fishy.log.txt\n",
      "03/24/2023  04:15 PM               139 flowers.csv\n",
      "03/20/2023  10:48 AM                34 guests.txt\n",
      "03/24/2023  09:37 AM                61 hosts.csv\n",
      "03/22/2023  02:18 PM    <DIR>          new_dir\n",
      "03/23/2023  09:57 AM                 0 newfile.txt\n",
      "06/21/2023  02:25 PM               456 syslog.txt\n",
      "03/24/2023  09:13 AM                72 Untitled.ipynb\n",
      "06/26/2023  10:52 AM               629 user_emails.txt\n",
      "02/09/2023  03:55 PM           161,093 wordcloud-1.8.1-cp39-cp39-win_amd64.whl\n",
      "02/09/2023  03:56 PM           149,488 wordcloud-1.8.1-cp39-cp39-win32.whl\n",
      "              35 File(s)        529,612 bytes\n",
      "               5 Dir(s)  866,820,923,392 bytes free\n"
     ]
    }
   ],
   "source": [
    "ls"
   ]
  },
  {
   "cell_type": "code",
   "execution_count": 6,
   "id": "05de448a",
   "metadata": {},
   "outputs": [
    {
     "ename": "NameError",
     "evalue": "name 'ps' is not defined",
     "output_type": "error",
     "traceback": [
      "\u001b[1;31m---------------------------------------------------------------------------\u001b[0m",
      "\u001b[1;31mNameError\u001b[0m                                 Traceback (most recent call last)",
      "Cell \u001b[1;32mIn[6], line 1\u001b[0m\n\u001b[1;32m----> 1\u001b[0m \u001b[43mps\u001b[49m\n",
      "\u001b[1;31mNameError\u001b[0m: name 'ps' is not defined"
     ]
    }
   ],
   "source": [
    "ps"
   ]
  },
  {
   "cell_type": "code",
   "execution_count": null,
   "id": "67850f27",
   "metadata": {},
   "outputs": [],
   "source": []
  }
 ],
 "metadata": {
  "kernelspec": {
   "display_name": "Python 3 (ipykernel)",
   "language": "python",
   "name": "python3"
  },
  "language_info": {
   "codemirror_mode": {
    "name": "ipython",
    "version": 3
   },
   "file_extension": ".py",
   "mimetype": "text/x-python",
   "name": "python",
   "nbconvert_exporter": "python",
   "pygments_lexer": "ipython3",
   "version": "3.10.9"
  }
 },
 "nbformat": 4,
 "nbformat_minor": 5
}
