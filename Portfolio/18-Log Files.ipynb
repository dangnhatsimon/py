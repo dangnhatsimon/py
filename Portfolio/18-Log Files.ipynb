{
 "cells": [
  {
   "cell_type": "code",
   "execution_count": 9,
   "id": "21ccf46e",
   "metadata": {},
   "outputs": [
    {
     "name": "stdout",
     "output_type": "stream",
     "text": [
      "Jul 6 14:01:23 pid:29440\n",
      "Jul 6 14:02:08 pid:29187\n",
      "Jul 6 14:02:09 pid:29187\n",
      "Jul 6 14:03:01 pid:29440\n",
      "Jul 6 14:03:40 pid:29807\n",
      "Jul 6 14:04:01 pid:29440\n",
      "Jul 6 14:05:01 pid:29440\n"
     ]
    }
   ],
   "source": [
    "import re\n",
    "def show_time_of_pid(line):\n",
    "  pattern = r'^(\\w+ \\d \\d+:\\d+:\\d+) [\\w\\.]+ [\\w=]+\\[(\\d+)\\]'\n",
    "  result = re.search(pattern, line)\n",
    "  return '{} pid:{}'.format(result[1],result[2])\n",
    "\n",
    "print(show_time_of_pid(\"Jul 6 14:01:23 computer.name CRON[29440]: USER (good_user)\")) # Jul 6 14:01:23 pid:29440\n",
    "\n",
    "print(show_time_of_pid(\"Jul 6 14:02:08 computer.name jam_tag=psim[29187]: (UUID:006)\")) # Jul 6 14:02:08 pid:29187\n",
    "\n",
    "print(show_time_of_pid(\"Jul 6 14:02:09 computer.name jam_tag=psim[29187]: (UUID:007)\")) # Jul 6 14:02:09 pid:29187\n",
    "\n",
    "print(show_time_of_pid(\"Jul 6 14:02:09 computer.name jam_tag=psim[29187]: (UUID:007)\")) # Jul 6 14:03:01 pid:29440\n",
    "\n",
    "print(show_time_of_pid(\"Jul 6 14:03:40 computer.name cacheclient[29807]: start syncing from \\\"0xDEADBEEF\\\"\")) # Jul 6 14:03:40 pid:29807\n",
    "\n",
    "print(show_time_of_pid(\"Jul 6 14:04:01 computer.name CRON[29440]: USER (naughty_user)\")) # Jul 6 14:04:01 pid:29440\n",
    "\n",
    "print(show_time_of_pid(\"Jul 6 14:05:01 computer.name CRON[29440]: USER (naughty_user)\")) # Jul 6 14:05:01 pid:29440"
   ]
  },
  {
   "cell_type": "code",
   "execution_count": 14,
   "id": "88977cc4",
   "metadata": {},
   "outputs": [
    {
     "name": "stdout",
     "output_type": "stream",
     "text": [
      "('Jul 6 14:01:23 computer.name CRON[29440]', 'Jul 6 14:01:23', '29440')\n",
      "('Jul 6 14:02:08 computer.name jam_tag=psim[29187]', 'Jul 6 14:02:08', '29187')\n",
      "('Jul 6 14:02:09 computer.name jam_tag=psim[29187]', 'Jul 6 14:02:09', '29187')\n",
      "('Jul 6 14:03:01 computer.name CRON[29440]', 'Jul 6 14:03:01', '29440')\n",
      "('Jul 6 14:03:40 computer.name cacheclient[29807]', 'Jul 6 14:03:40', '29807')\n",
      "('Jul 6 14:04:01 computer.name CRON[29440]', 'Jul 6 14:04:01', '29440')\n",
      "('Jul 6 14:05:01 computer.name CRON[29440]', 'Jul 6 14:05:01', '29440')\n"
     ]
    }
   ],
   "source": [
    "import re\n",
    "def show_time_of_pid(line):\n",
    "  pattern = r'^(\\w+ \\d \\d+:\\d+:\\d+) [\\w\\.]+ [\\w=]+\\[(\\d+)\\]'\n",
    "  result = re.search(pattern, line)\n",
    "  return result[0],result[1],result[2]\n",
    "\n",
    "print(show_time_of_pid(\"Jul 6 14:01:23 computer.name CRON[29440]: USER (good_user)\")) # Jul 6 14:01:23 pid:29440\n",
    "\n",
    "print(show_time_of_pid(\"Jul 6 14:02:08 computer.name jam_tag=psim[29187]: (UUID:006)\")) # Jul 6 14:02:08 pid:29187\n",
    "\n",
    "print(show_time_of_pid(\"Jul 6 14:02:09 computer.name jam_tag=psim[29187]: (UUID:007)\")) # Jul 6 14:02:09 pid:29187\n",
    "\n",
    "print(show_time_of_pid(\"Jul 6 14:03:01 computer.name CRON[29440]: USER (naughty_user)\")) # Jul 6 14:03:01 pid:29440\n",
    "\n",
    "print(show_time_of_pid(\"Jul 6 14:03:40 computer.name cacheclient[29807]: start syncing from \\\"0xDEADBEEF\\\"\")) # Jul 6 14:03:40 pid:29807\n",
    "\n",
    "print(show_time_of_pid(\"Jul 6 14:04:01 computer.name CRON[29440]: USER (naughty_user)\")) # Jul 6 14:04:01 pid:29440\n",
    "\n",
    "print(show_time_of_pid(\"Jul 6 14:05:01 computer.name CRON[29440]: USER (naughty_user)\")) # Jul 6 14:05:01 pid:29440"
   ]
  },
  {
   "cell_type": "code",
   "execution_count": 15,
   "id": "46a3a7c8",
   "metadata": {},
   "outputs": [
    {
     "name": "stdout",
     "output_type": "stream",
     "text": [
      "{'good_user': 1}\n"
     ]
    }
   ],
   "source": [
    "usernames={}\n",
    "name= \"good_user\"\n",
    "usernames[name]= usernames.get(name,0)+1\n",
    "print(usernames)"
   ]
  },
  {
   "cell_type": "code",
   "execution_count": 16,
   "id": "ab8ffa1e",
   "metadata": {},
   "outputs": [
    {
     "name": "stdout",
     "output_type": "stream",
     "text": [
      "{'good_user': 2}\n"
     ]
    }
   ],
   "source": [
    "usernames[name]= usernames.get(name,0)+1\n",
    "print(usernames)"
   ]
  },
  {
   "cell_type": "code",
   "execution_count": 17,
   "id": "13fc3c21",
   "metadata": {},
   "outputs": [
    {
     "name": "stdout",
     "output_type": "stream",
     "text": [
      "{'good_user': 3}\n"
     ]
    }
   ],
   "source": [
    "usernames[name]= usernames.get(name,0)+1\n",
    "print(usernames)"
   ]
  },
  {
   "cell_type": "code",
   "execution_count": 21,
   "id": "a649ee56",
   "metadata": {},
   "outputs": [
    {
     "name": "stdout",
     "output_type": "stream",
     "text": [
      "{'good_user': 1, 'naughty_user': 2}\n"
     ]
    }
   ],
   "source": [
    "import re\n",
    "import sys\n",
    "logfile = \"syslog.txt\"\n",
    "usernames = {}\n",
    "with open(logfile) as f:\n",
    "    for line in f:\n",
    "        if  \"CRON\" not in line:\n",
    "            continue\n",
    "        pattern = r\"USER \\((\\w+)\\)$\"\n",
    "        result = re.search(pattern, line)\n",
    "        if result is None:\n",
    "            continue\n",
    "        name = result[1]\n",
    "        usernames[name]= usernames.get(name,0) +1\n",
    "print(usernames)\n"
   ]
  },
  {
   "cell_type": "code",
   "execution_count": 20,
   "id": "e7f1af25",
   "metadata": {},
   "outputs": [
    {
     "name": "stdout",
     "output_type": "stream",
     "text": [
      "Hi, I am PFB\n",
      "The sys.argv list is: ['C:\\\\ProgramData\\\\anaconda3\\\\lib\\\\site-packages\\\\ipykernel_launcher.py', '-f', 'C:\\\\Users\\\\DE01\\\\AppData\\\\Roaming\\\\jupyter\\\\runtime\\\\kernel-3b76509b-e581-476c-9739-c4a45a3c4221.json']\n",
      "Total command line arguments are: 2\n"
     ]
    }
   ],
   "source": [
    "import sys\n",
    "print(\"Hi, I am PFB\")\n",
    "print(\"The sys.argv list is:\",sys.argv)\n",
    "sys_argv_length=len(sys.argv)\n",
    "number_of_arguments=sys_argv_length-1\n",
    "print(\"Total command line arguments are:\",number_of_arguments)"
   ]
  },
  {
   "cell_type": "code",
   "execution_count": null,
   "id": "6a7432f6",
   "metadata": {},
   "outputs": [],
   "source": [
    "#!/usr/bin/env python3\n",
    "import sys\n",
    "import os\n",
    "import re\n",
    "def error_search(log_file):\n",
    "  error = input(\"What is the error? \")\n",
    "  returned_errors = []\n",
    "  with open(log_file, mode='r',encoding='UTF-8') as file:\n",
    "    for log in  file.readlines():\n",
    "      error_patterns = [\"error\"]\n",
    "      for i in range(len(error.split(' '))):\n",
    "        error_patterns.append(r\"{}\".format(error.split(' ')[i].lower()))\n",
    "      if all(re.search(error_pattern, log.lower()) for error_pattern in error_patterns):\n",
    "        returned_errors.append(log)\n",
    "    file.close()\n",
    "  return returned_errors\n",
    "  \n",
    "def file_output(returned_errors):\n",
    "  with open(os.path.expanduser('~') + '/data/errors_found.log', 'w') as file:\n",
    "    for error in returned_errors:\n",
    "      file.write(error)\n",
    "    file.close()\n",
    "if __name__ == \"__main__\":\n",
    "  log_file = sys.argv[1]\n",
    "  returned_errors = error_search(log_file)\n",
    "  file_output(returned_errors)\n",
    "  sys.exit(0)"
   ]
  },
  {
   "cell_type": "code",
   "execution_count": 24,
   "id": "b41c7de7",
   "metadata": {},
   "outputs": [
    {
     "name": "stdout",
     "output_type": "stream",
     "text": [
      "Argument: -f\n"
     ]
    }
   ],
   "source": [
    "import sys\n",
    "\n",
    "# Check the number of arguments\n",
    "if len(sys.argv) < 2:\n",
    "    print(\"Usage: %run script.py [argument]\")\n",
    "else:\n",
    "    # Access the argument passed to the notebook cell\n",
    "    argument = sys.argv[1]\n",
    "    print(\"Argument:\", argument)\n"
   ]
  },
  {
   "cell_type": "code",
   "execution_count": 26,
   "id": "19ce1ece",
   "metadata": {},
   "outputs": [
    {
     "data": {
      "text/plain": [
       "['C:\\\\ProgramData\\\\anaconda3\\\\lib\\\\site-packages\\\\ipykernel_launcher.py',\n",
       " '-f',\n",
       " 'C:\\\\Users\\\\DE01\\\\AppData\\\\Roaming\\\\jupyter\\\\runtime\\\\kernel-3b76509b-e581-476c-9739-c4a45a3c4221.json']"
      ]
     },
     "execution_count": 26,
     "metadata": {},
     "output_type": "execute_result"
    }
   ],
   "source": [
    "sys.argv"
   ]
  },
  {
   "cell_type": "code",
   "execution_count": null,
   "id": "17a1f6db",
   "metadata": {},
   "outputs": [],
   "source": []
  }
 ],
 "metadata": {
  "kernelspec": {
   "display_name": "Python 3 (ipykernel)",
   "language": "python",
   "name": "python3"
  },
  "language_info": {
   "codemirror_mode": {
    "name": "ipython",
    "version": 3
   },
   "file_extension": ".py",
   "mimetype": "text/x-python",
   "name": "python",
   "nbconvert_exporter": "python",
   "pygments_lexer": "ipython3",
   "version": "3.10.9"
  }
 },
 "nbformat": 4,
 "nbformat_minor": 5
}
