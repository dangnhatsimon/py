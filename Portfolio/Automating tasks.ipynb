{
 "cells": [
  {
   "cell_type": "code",
   "execution_count": 1,
   "id": "9a7e27a4",
   "metadata": {},
   "outputs": [
    {
     "name": "stdout",
     "output_type": "stream",
     "text": [
      "[[ 3 12  6]\n",
      " [36 60 48]]\n"
     ]
    }
   ],
   "source": [
    "#!/usr/bin/env python3\n",
    "import numpy as np\n",
    "\n",
    "def numpyArray():\n",
    "    x = np.array([[1, 2, 3], [4, 5, 6]], np.int32)\n",
    "    y = np.array([[3, 6, 2], [9, 12, 8]], np.int32)\n",
    "    return x*y\n",
    "print(numpyArray())"
   ]
  },
  {
   "cell_type": "code",
   "execution_count": 4,
   "id": "2e004f48",
   "metadata": {},
   "outputs": [
    {
     "name": "stdout",
     "output_type": "stream",
     "text": [
      "usage(total=2000263573504, used=1091577495552, free=908686077952)\n"
     ]
    }
   ],
   "source": [
    "import shutil\n",
    "du = shutil.disk_usage(\"/\")\n",
    "print(du)\n"
   ]
  },
  {
   "cell_type": "code",
   "execution_count": 5,
   "id": "5b1cd6fe",
   "metadata": {},
   "outputs": [
    {
     "data": {
      "text/plain": [
       "45.42831704724752"
      ]
     },
     "execution_count": 5,
     "metadata": {},
     "output_type": "execute_result"
    }
   ],
   "source": [
    "du.free/du.total*100"
   ]
  },
  {
   "cell_type": "code",
   "execution_count": 7,
   "id": "ea29b685",
   "metadata": {},
   "outputs": [
    {
     "data": {
      "text/plain": [
       "0.0"
      ]
     },
     "execution_count": 7,
     "metadata": {},
     "output_type": "execute_result"
    }
   ],
   "source": [
    "import psutil\n",
    "psutil.cpu_percent(0.1)"
   ]
  },
  {
   "cell_type": "code",
   "execution_count": 8,
   "id": "7ab3dd3b",
   "metadata": {},
   "outputs": [
    {
     "data": {
      "text/plain": [
       "0.0"
      ]
     },
     "execution_count": 8,
     "metadata": {},
     "output_type": "execute_result"
    }
   ],
   "source": [
    "psutil.cpu_percent(0.1)"
   ]
  },
  {
   "cell_type": "code",
   "execution_count": 1,
   "id": "e3647a91",
   "metadata": {},
   "outputs": [
    {
     "name": "stdout",
     "output_type": "stream",
     "text": [
      "[[0, 0, 0], [0, 0, 1], [0, 1, 0], [1, 0, 0], [1, 1, 1]]\n"
     ]
    }
   ],
   "source": [
    "x = int(input('Enter x= '))\n",
    "y = int(input('Enter y= '))\n",
    "z = int(input('Enter z= '))\n",
    "n = int(input('Enter n= '))\n",
    "result=[]\n",
    "for i in range(x+1):\n",
    "    for j in range (y+1):\n",
    "        for k in range (z+1):\n",
    "            if (i+j+k) != n:\n",
    "                result.append([i,j,k])\n",
    "print(result)"
   ]
  }
 ],
 "metadata": {
  "kernelspec": {
   "display_name": "Python 3 (ipykernel)",
   "language": "python",
   "name": "python3"
  },
  "language_info": {
   "codemirror_mode": {
    "name": "ipython",
    "version": 3
   },
   "file_extension": ".py",
   "mimetype": "text/x-python",
   "name": "python",
   "nbconvert_exporter": "python",
   "pygments_lexer": "ipython3",
   "version": "3.10.9"
  }
 },
 "nbformat": 4,
 "nbformat_minor": 5
}
