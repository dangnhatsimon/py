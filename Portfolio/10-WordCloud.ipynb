{
 "cells": [
  {
   "cell_type": "code",
   "execution_count": 1,
   "id": "3d08878b",
   "metadata": {},
   "outputs": [],
   "source": [
    "# Create a \"word cloud\" from a text by writing a script. \n",
    "# This script needs to process the text, remove punctuation, ignore case and words that do not contain all alphabets, \n",
    "# count the frequencies, and ignore uninteresting or irrelevant words. \n",
    "# A dictionary is the output of the calculate_frequencies function. \n",
    "# The wordcloud module will then generate the image from your dictionary."
   ]
  },
  {
   "cell_type": "code",
   "execution_count": 5,
   "id": "0632e9a8",
   "metadata": {},
   "outputs": [
    {
     "name": "stdout",
     "output_type": "stream",
     "text": [
      "Requirement already satisfied: wordcloud in c:\\users\\dangn\\appdata\\local\\programs\\python\\python310\\lib\\site-packages (1.8.2.2)\n",
      "Requirement already satisfied: pillow in c:\\users\\dangn\\appdata\\local\\programs\\python\\python310\\lib\\site-packages (from wordcloud) (9.4.0)\n",
      "Requirement already satisfied: numpy>=1.6.1 in c:\\users\\dangn\\appdata\\local\\programs\\python\\python310\\lib\\site-packages (from wordcloud) (1.24.2)\n",
      "Requirement already satisfied: matplotlib in c:\\users\\dangn\\appdata\\local\\programs\\python\\python310\\lib\\site-packages (from wordcloud) (3.6.3)\n",
      "Requirement already satisfied: contourpy>=1.0.1 in c:\\users\\dangn\\appdata\\local\\programs\\python\\python310\\lib\\site-packages (from matplotlib->wordcloud) (1.0.7)\n",
      "Requirement already satisfied: fonttools>=4.22.0 in c:\\users\\dangn\\appdata\\local\\programs\\python\\python310\\lib\\site-packages (from matplotlib->wordcloud) (4.38.0)\n",
      "Requirement already satisfied: kiwisolver>=1.0.1 in c:\\users\\dangn\\appdata\\local\\programs\\python\\python310\\lib\\site-packages (from matplotlib->wordcloud) (1.4.4)\n",
      "Requirement already satisfied: cycler>=0.10 in c:\\users\\dangn\\appdata\\local\\programs\\python\\python310\\lib\\site-packages (from matplotlib->wordcloud) (0.11.0)\n",
      "Requirement already satisfied: packaging>=20.0 in c:\\users\\dangn\\appdata\\local\\programs\\python\\python310\\lib\\site-packages (from matplotlib->wordcloud) (21.3)\n",
      "Requirement already satisfied: python-dateutil>=2.7 in c:\\users\\dangn\\appdata\\local\\programs\\python\\python310\\lib\\site-packages (from matplotlib->wordcloud) (2.8.2)\n",
      "Requirement already satisfied: pyparsing>=2.2.1 in c:\\users\\dangn\\appdata\\local\\programs\\python\\python310\\lib\\site-packages (from matplotlib->wordcloud) (3.0.9)\n",
      "Requirement already satisfied: six>=1.5 in c:\\users\\dangn\\appdata\\local\\programs\\python\\python310\\lib\\site-packages (from python-dateutil>=2.7->matplotlib->wordcloud) (1.16.0)\n"
     ]
    },
    {
     "name": "stderr",
     "output_type": "stream",
     "text": [
      "WARNING: There was an error checking the latest version of pip.\n"
     ]
    },
    {
     "name": "stdout",
     "output_type": "stream",
     "text": [
      "Requirement already satisfied: fileupload in c:\\users\\dangn\\appdata\\local\\programs\\python\\python310\\lib\\site-packages (0.1.5)\n",
      "Requirement already satisfied: notebook>=4.2 in c:\\users\\dangn\\appdata\\local\\programs\\python\\python310\\lib\\site-packages (from fileupload) (6.4.11)\n",
      "Requirement already satisfied: ipywidgets>=5.1 in c:\\users\\dangn\\appdata\\local\\programs\\python\\python310\\lib\\site-packages (from fileupload) (8.0.4)\n",
      "Requirement already satisfied: traitlets>=4.2 in c:\\users\\dangn\\appdata\\local\\programs\\python\\python310\\lib\\site-packages (from fileupload) (5.2.1.post0)\n",
      "Requirement already satisfied: widgetsnbextension~=4.0 in c:\\users\\dangn\\appdata\\local\\programs\\python\\python310\\lib\\site-packages (from ipywidgets>=5.1->fileupload) (4.0.5)\n",
      "Requirement already satisfied: ipython>=6.1.0 in c:\\users\\dangn\\appdata\\local\\programs\\python\\python310\\lib\\site-packages (from ipywidgets>=5.1->fileupload) (8.3.0)\n",
      "Requirement already satisfied: jupyterlab-widgets~=3.0 in c:\\users\\dangn\\appdata\\local\\programs\\python\\python310\\lib\\site-packages (from ipywidgets>=5.1->fileupload) (3.0.5)\n",
      "Requirement already satisfied: ipykernel>=4.5.1 in c:\\users\\dangn\\appdata\\local\\programs\\python\\python310\\lib\\site-packages (from ipywidgets>=5.1->fileupload) (6.13.0)\n",
      "Requirement already satisfied: jupyter-core>=4.6.1 in c:\\users\\dangn\\appdata\\local\\programs\\python\\python310\\lib\\site-packages (from notebook>=4.2->fileupload) (4.10.0)\n",
      "Requirement already satisfied: tornado>=6.1 in c:\\users\\dangn\\appdata\\local\\programs\\python\\python310\\lib\\site-packages (from notebook>=4.2->fileupload) (6.1)\n",
      "Requirement already satisfied: terminado>=0.8.3 in c:\\users\\dangn\\appdata\\local\\programs\\python\\python310\\lib\\site-packages (from notebook>=4.2->fileupload) (0.15.0)\n",
      "Requirement already satisfied: nest-asyncio>=1.5 in c:\\users\\dangn\\appdata\\local\\programs\\python\\python310\\lib\\site-packages (from notebook>=4.2->fileupload) (1.5.5)\n",
      "Requirement already satisfied: ipython-genutils in c:\\users\\dangn\\appdata\\local\\programs\\python\\python310\\lib\\site-packages (from notebook>=4.2->fileupload) (0.2.0)\n",
      "Requirement already satisfied: prometheus-client in c:\\users\\dangn\\appdata\\local\\programs\\python\\python310\\lib\\site-packages (from notebook>=4.2->fileupload) (0.14.1)\n",
      "Requirement already satisfied: jupyter-client>=5.3.4 in c:\\users\\dangn\\appdata\\local\\programs\\python\\python310\\lib\\site-packages (from notebook>=4.2->fileupload) (7.3.1)\n",
      "Requirement already satisfied: jinja2 in c:\\users\\dangn\\appdata\\local\\programs\\python\\python310\\lib\\site-packages (from notebook>=4.2->fileupload) (3.1.2)\n",
      "Requirement already satisfied: nbconvert>=5 in c:\\users\\dangn\\appdata\\local\\programs\\python\\python310\\lib\\site-packages (from notebook>=4.2->fileupload) (6.5.0)\n",
      "Requirement already satisfied: argon2-cffi in c:\\users\\dangn\\appdata\\local\\programs\\python\\python310\\lib\\site-packages (from notebook>=4.2->fileupload) (21.3.0)\n",
      "Requirement already satisfied: Send2Trash>=1.8.0 in c:\\users\\dangn\\appdata\\local\\programs\\python\\python310\\lib\\site-packages (from notebook>=4.2->fileupload) (1.8.0)\n",
      "Requirement already satisfied: pyzmq>=17 in c:\\users\\dangn\\appdata\\local\\programs\\python\\python310\\lib\\site-packages (from notebook>=4.2->fileupload) (22.3.0)\n",
      "Requirement already satisfied: nbformat in c:\\users\\dangn\\appdata\\local\\programs\\python\\python310\\lib\\site-packages (from notebook>=4.2->fileupload) (5.4.0)\n",
      "Requirement already satisfied: matplotlib-inline>=0.1 in c:\\users\\dangn\\appdata\\local\\programs\\python\\python310\\lib\\site-packages (from ipykernel>=4.5.1->ipywidgets>=5.1->fileupload) (0.1.3)\n",
      "Requirement already satisfied: packaging in c:\\users\\dangn\\appdata\\local\\programs\\python\\python310\\lib\\site-packages (from ipykernel>=4.5.1->ipywidgets>=5.1->fileupload) (21.3)\n",
      "Requirement already satisfied: psutil in c:\\users\\dangn\\appdata\\local\\programs\\python\\python310\\lib\\site-packages (from ipykernel>=4.5.1->ipywidgets>=5.1->fileupload) (5.9.0)\n",
      "Requirement already satisfied: debugpy>=1.0 in c:\\users\\dangn\\appdata\\local\\programs\\python\\python310\\lib\\site-packages (from ipykernel>=4.5.1->ipywidgets>=5.1->fileupload) (1.6.0)\n",
      "Requirement already satisfied: setuptools>=18.5 in c:\\users\\dangn\\appdata\\local\\programs\\python\\python310\\lib\\site-packages (from ipython>=6.1.0->ipywidgets>=5.1->fileupload) (58.1.0)\n",
      "Requirement already satisfied: colorama in c:\\users\\dangn\\appdata\\local\\programs\\python\\python310\\lib\\site-packages (from ipython>=6.1.0->ipywidgets>=5.1->fileupload) (0.4.4)\n",
      "Requirement already satisfied: stack-data in c:\\users\\dangn\\appdata\\local\\programs\\python\\python310\\lib\\site-packages (from ipython>=6.1.0->ipywidgets>=5.1->fileupload) (0.2.0)\n",
      "Requirement already satisfied: backcall in c:\\users\\dangn\\appdata\\local\\programs\\python\\python310\\lib\\site-packages (from ipython>=6.1.0->ipywidgets>=5.1->fileupload) (0.2.0)\n",
      "Requirement already satisfied: jedi>=0.16 in c:\\users\\dangn\\appdata\\local\\programs\\python\\python310\\lib\\site-packages (from ipython>=6.1.0->ipywidgets>=5.1->fileupload) (0.18.1)\n",
      "Requirement already satisfied: pygments>=2.4.0 in c:\\users\\dangn\\appdata\\local\\programs\\python\\python310\\lib\\site-packages (from ipython>=6.1.0->ipywidgets>=5.1->fileupload) (2.12.0)\n",
      "Requirement already satisfied: decorator in c:\\users\\dangn\\appdata\\local\\programs\\python\\python310\\lib\\site-packages (from ipython>=6.1.0->ipywidgets>=5.1->fileupload) (5.1.1)\n",
      "Requirement already satisfied: pickleshare in c:\\users\\dangn\\appdata\\local\\programs\\python\\python310\\lib\\site-packages (from ipython>=6.1.0->ipywidgets>=5.1->fileupload) (0.7.5)\n",
      "Requirement already satisfied: prompt-toolkit!=3.0.0,!=3.0.1,<3.1.0,>=2.0.0 in c:\\users\\dangn\\appdata\\local\\programs\\python\\python310\\lib\\site-packages (from ipython>=6.1.0->ipywidgets>=5.1->fileupload) (3.0.29)\n",
      "Requirement already satisfied: python-dateutil>=2.8.2 in c:\\users\\dangn\\appdata\\local\\programs\\python\\python310\\lib\\site-packages (from jupyter-client>=5.3.4->notebook>=4.2->fileupload) (2.8.2)\n",
      "Requirement already satisfied: entrypoints in c:\\users\\dangn\\appdata\\local\\programs\\python\\python310\\lib\\site-packages (from jupyter-client>=5.3.4->notebook>=4.2->fileupload) (0.4)\n",
      "Requirement already satisfied: pywin32>=1.0 in c:\\users\\dangn\\appdata\\local\\programs\\python\\python310\\lib\\site-packages (from jupyter-core>=4.6.1->notebook>=4.2->fileupload) (304)\n",
      "Requirement already satisfied: defusedxml in c:\\users\\dangn\\appdata\\local\\programs\\python\\python310\\lib\\site-packages (from nbconvert>=5->notebook>=4.2->fileupload) (0.7.1)\n",
      "Requirement already satisfied: jupyterlab-pygments in c:\\users\\dangn\\appdata\\local\\programs\\python\\python310\\lib\\site-packages (from nbconvert>=5->notebook>=4.2->fileupload) (0.2.2)\n",
      "Requirement already satisfied: pandocfilters>=1.4.1 in c:\\users\\dangn\\appdata\\local\\programs\\python\\python310\\lib\\site-packages (from nbconvert>=5->notebook>=4.2->fileupload) (1.5.0)\n",
      "Requirement already satisfied: tinycss2 in c:\\users\\dangn\\appdata\\local\\programs\\python\\python310\\lib\\site-packages (from nbconvert>=5->notebook>=4.2->fileupload) (1.1.1)\n",
      "Requirement already satisfied: mistune<2,>=0.8.1 in c:\\users\\dangn\\appdata\\local\\programs\\python\\python310\\lib\\site-packages (from nbconvert>=5->notebook>=4.2->fileupload) (0.8.4)\n",
      "Requirement already satisfied: MarkupSafe>=2.0 in c:\\users\\dangn\\appdata\\local\\programs\\python\\python310\\lib\\site-packages (from nbconvert>=5->notebook>=4.2->fileupload) (2.1.1)\n",
      "Requirement already satisfied: nbclient>=0.5.0 in c:\\users\\dangn\\appdata\\local\\programs\\python\\python310\\lib\\site-packages (from nbconvert>=5->notebook>=4.2->fileupload) (0.6.3)\n",
      "Requirement already satisfied: bleach in c:\\users\\dangn\\appdata\\local\\programs\\python\\python310\\lib\\site-packages (from nbconvert>=5->notebook>=4.2->fileupload) (5.0.0)\n",
      "Requirement already satisfied: beautifulsoup4 in c:\\users\\dangn\\appdata\\local\\programs\\python\\python310\\lib\\site-packages (from nbconvert>=5->notebook>=4.2->fileupload) (4.11.1)\n",
      "Requirement already satisfied: jsonschema>=2.6 in c:\\users\\dangn\\appdata\\local\\programs\\python\\python310\\lib\\site-packages (from nbformat->notebook>=4.2->fileupload) (4.5.1)\n",
      "Requirement already satisfied: fastjsonschema in c:\\users\\dangn\\appdata\\local\\programs\\python\\python310\\lib\\site-packages (from nbformat->notebook>=4.2->fileupload) (2.15.3)\n",
      "Requirement already satisfied: pywinpty>=1.1.0 in c:\\users\\dangn\\appdata\\local\\programs\\python\\python310\\lib\\site-packages (from terminado>=0.8.3->notebook>=4.2->fileupload) (2.0.5)\n",
      "Requirement already satisfied: argon2-cffi-bindings in c:\\users\\dangn\\appdata\\local\\programs\\python\\python310\\lib\\site-packages (from argon2-cffi->notebook>=4.2->fileupload) (21.2.0)\n",
      "Requirement already satisfied: parso<0.9.0,>=0.8.0 in c:\\users\\dangn\\appdata\\local\\programs\\python\\python310\\lib\\site-packages (from jedi>=0.16->ipython>=6.1.0->ipywidgets>=5.1->fileupload) (0.8.3)\n",
      "Requirement already satisfied: attrs>=17.4.0 in c:\\users\\dangn\\appdata\\local\\programs\\python\\python310\\lib\\site-packages (from jsonschema>=2.6->nbformat->notebook>=4.2->fileupload) (21.4.0)\n",
      "Requirement already satisfied: pyrsistent!=0.17.0,!=0.17.1,!=0.17.2,>=0.14.0 in c:\\users\\dangn\\appdata\\local\\programs\\python\\python310\\lib\\site-packages (from jsonschema>=2.6->nbformat->notebook>=4.2->fileupload) (0.18.1)\n",
      "Requirement already satisfied: wcwidth in c:\\users\\dangn\\appdata\\local\\programs\\python\\python310\\lib\\site-packages (from prompt-toolkit!=3.0.0,!=3.0.1,<3.1.0,>=2.0.0->ipython>=6.1.0->ipywidgets>=5.1->fileupload) (0.2.5)\n",
      "Requirement already satisfied: six>=1.5 in c:\\users\\dangn\\appdata\\local\\programs\\python\\python310\\lib\\site-packages (from python-dateutil>=2.8.2->jupyter-client>=5.3.4->notebook>=4.2->fileupload) (1.16.0)\n",
      "Requirement already satisfied: cffi>=1.0.1 in c:\\users\\dangn\\appdata\\local\\programs\\python\\python310\\lib\\site-packages (from argon2-cffi-bindings->argon2-cffi->notebook>=4.2->fileupload) (1.15.0)\n",
      "Requirement already satisfied: soupsieve>1.2 in c:\\users\\dangn\\appdata\\local\\programs\\python\\python310\\lib\\site-packages (from beautifulsoup4->nbconvert>=5->notebook>=4.2->fileupload) (2.3.2.post1)\n",
      "Requirement already satisfied: webencodings in c:\\users\\dangn\\appdata\\local\\programs\\python\\python310\\lib\\site-packages (from bleach->nbconvert>=5->notebook>=4.2->fileupload) (0.5.1)\n",
      "Requirement already satisfied: pyparsing!=3.0.5,>=2.0.2 in c:\\users\\dangn\\appdata\\local\\programs\\python\\python310\\lib\\site-packages (from packaging->ipykernel>=4.5.1->ipywidgets>=5.1->fileupload) (3.0.9)\n",
      "Requirement already satisfied: asttokens in c:\\users\\dangn\\appdata\\local\\programs\\python\\python310\\lib\\site-packages (from stack-data->ipython>=6.1.0->ipywidgets>=5.1->fileupload) (2.0.5)\n",
      "Requirement already satisfied: executing in c:\\users\\dangn\\appdata\\local\\programs\\python\\python310\\lib\\site-packages (from stack-data->ipython>=6.1.0->ipywidgets>=5.1->fileupload) (0.8.3)\n",
      "Requirement already satisfied: pure-eval in c:\\users\\dangn\\appdata\\local\\programs\\python\\python310\\lib\\site-packages (from stack-data->ipython>=6.1.0->ipywidgets>=5.1->fileupload) (0.2.2)\n",
      "Requirement already satisfied: pycparser in c:\\users\\dangn\\appdata\\local\\programs\\python\\python310\\lib\\site-packages (from cffi>=1.0.1->argon2-cffi-bindings->argon2-cffi->notebook>=4.2->fileupload) (2.21)\n"
     ]
    },
    {
     "name": "stderr",
     "output_type": "stream",
     "text": [
      "WARNING: There was an error checking the latest version of pip.\n"
     ]
    },
    {
     "name": "stdout",
     "output_type": "stream",
     "text": [
      "Requirement already satisfied: ipywidgets in c:\\users\\dangn\\appdata\\local\\programs\\python\\python310\\lib\\site-packages (8.0.4)\n",
      "Requirement already satisfied: widgetsnbextension~=4.0 in c:\\users\\dangn\\appdata\\local\\programs\\python\\python310\\lib\\site-packages (from ipywidgets) (4.0.5)\n",
      "Requirement already satisfied: ipython>=6.1.0 in c:\\users\\dangn\\appdata\\local\\programs\\python\\python310\\lib\\site-packages (from ipywidgets) (8.3.0)\n",
      "Requirement already satisfied: ipykernel>=4.5.1 in c:\\users\\dangn\\appdata\\local\\programs\\python\\python310\\lib\\site-packages (from ipywidgets) (6.13.0)\n",
      "Requirement already satisfied: jupyterlab-widgets~=3.0 in c:\\users\\dangn\\appdata\\local\\programs\\python\\python310\\lib\\site-packages (from ipywidgets) (3.0.5)\n",
      "Requirement already satisfied: traitlets>=4.3.1 in c:\\users\\dangn\\appdata\\local\\programs\\python\\python310\\lib\\site-packages (from ipywidgets) (5.2.1.post0)\n",
      "Requirement already satisfied: nest-asyncio in c:\\users\\dangn\\appdata\\local\\programs\\python\\python310\\lib\\site-packages (from ipykernel>=4.5.1->ipywidgets) (1.5.5)\n",
      "Requirement already satisfied: psutil in c:\\users\\dangn\\appdata\\local\\programs\\python\\python310\\lib\\site-packages (from ipykernel>=4.5.1->ipywidgets) (5.9.0)\n",
      "Requirement already satisfied: matplotlib-inline>=0.1 in c:\\users\\dangn\\appdata\\local\\programs\\python\\python310\\lib\\site-packages (from ipykernel>=4.5.1->ipywidgets) (0.1.3)\n",
      "Requirement already satisfied: tornado>=6.1 in c:\\users\\dangn\\appdata\\local\\programs\\python\\python310\\lib\\site-packages (from ipykernel>=4.5.1->ipywidgets) (6.1)\n",
      "Requirement already satisfied: debugpy>=1.0 in c:\\users\\dangn\\appdata\\local\\programs\\python\\python310\\lib\\site-packages (from ipykernel>=4.5.1->ipywidgets) (1.6.0)\n",
      "Requirement already satisfied: jupyter-client>=6.1.12 in c:\\users\\dangn\\appdata\\local\\programs\\python\\python310\\lib\\site-packages (from ipykernel>=4.5.1->ipywidgets) (7.3.1)\n",
      "Requirement already satisfied: packaging in c:\\users\\dangn\\appdata\\local\\programs\\python\\python310\\lib\\site-packages (from ipykernel>=4.5.1->ipywidgets) (21.3)\n",
      "Requirement already satisfied: prompt-toolkit!=3.0.0,!=3.0.1,<3.1.0,>=2.0.0 in c:\\users\\dangn\\appdata\\local\\programs\\python\\python310\\lib\\site-packages (from ipython>=6.1.0->ipywidgets) (3.0.29)\n",
      "Requirement already satisfied: stack-data in c:\\users\\dangn\\appdata\\local\\programs\\python\\python310\\lib\\site-packages (from ipython>=6.1.0->ipywidgets) (0.2.0)\n",
      "Requirement already satisfied: colorama in c:\\users\\dangn\\appdata\\local\\programs\\python\\python310\\lib\\site-packages (from ipython>=6.1.0->ipywidgets) (0.4.4)\n",
      "Requirement already satisfied: jedi>=0.16 in c:\\users\\dangn\\appdata\\local\\programs\\python\\python310\\lib\\site-packages (from ipython>=6.1.0->ipywidgets) (0.18.1)\n",
      "Requirement already satisfied: setuptools>=18.5 in c:\\users\\dangn\\appdata\\local\\programs\\python\\python310\\lib\\site-packages (from ipython>=6.1.0->ipywidgets) (58.1.0)\n",
      "Requirement already satisfied: backcall in c:\\users\\dangn\\appdata\\local\\programs\\python\\python310\\lib\\site-packages (from ipython>=6.1.0->ipywidgets) (0.2.0)\n",
      "Requirement already satisfied: pygments>=2.4.0 in c:\\users\\dangn\\appdata\\local\\programs\\python\\python310\\lib\\site-packages (from ipython>=6.1.0->ipywidgets) (2.12.0)\n",
      "Requirement already satisfied: pickleshare in c:\\users\\dangn\\appdata\\local\\programs\\python\\python310\\lib\\site-packages (from ipython>=6.1.0->ipywidgets) (0.7.5)\n",
      "Requirement already satisfied: decorator in c:\\users\\dangn\\appdata\\local\\programs\\python\\python310\\lib\\site-packages (from ipython>=6.1.0->ipywidgets) (5.1.1)\n",
      "Requirement already satisfied: parso<0.9.0,>=0.8.0 in c:\\users\\dangn\\appdata\\local\\programs\\python\\python310\\lib\\site-packages (from jedi>=0.16->ipython>=6.1.0->ipywidgets) (0.8.3)\n",
      "Requirement already satisfied: entrypoints in c:\\users\\dangn\\appdata\\local\\programs\\python\\python310\\lib\\site-packages (from jupyter-client>=6.1.12->ipykernel>=4.5.1->ipywidgets) (0.4)\n",
      "Requirement already satisfied: pyzmq>=22.3 in c:\\users\\dangn\\appdata\\local\\programs\\python\\python310\\lib\\site-packages (from jupyter-client>=6.1.12->ipykernel>=4.5.1->ipywidgets) (22.3.0)\n",
      "Requirement already satisfied: jupyter-core>=4.9.2 in c:\\users\\dangn\\appdata\\local\\programs\\python\\python310\\lib\\site-packages (from jupyter-client>=6.1.12->ipykernel>=4.5.1->ipywidgets) (4.10.0)\n",
      "Requirement already satisfied: python-dateutil>=2.8.2 in c:\\users\\dangn\\appdata\\local\\programs\\python\\python310\\lib\\site-packages (from jupyter-client>=6.1.12->ipykernel>=4.5.1->ipywidgets) (2.8.2)\n",
      "Requirement already satisfied: wcwidth in c:\\users\\dangn\\appdata\\local\\programs\\python\\python310\\lib\\site-packages (from prompt-toolkit!=3.0.0,!=3.0.1,<3.1.0,>=2.0.0->ipython>=6.1.0->ipywidgets) (0.2.5)\n",
      "Requirement already satisfied: pyparsing!=3.0.5,>=2.0.2 in c:\\users\\dangn\\appdata\\local\\programs\\python\\python310\\lib\\site-packages (from packaging->ipykernel>=4.5.1->ipywidgets) (3.0.9)\n",
      "Requirement already satisfied: executing in c:\\users\\dangn\\appdata\\local\\programs\\python\\python310\\lib\\site-packages (from stack-data->ipython>=6.1.0->ipywidgets) (0.8.3)\n",
      "Requirement already satisfied: pure-eval in c:\\users\\dangn\\appdata\\local\\programs\\python\\python310\\lib\\site-packages (from stack-data->ipython>=6.1.0->ipywidgets) (0.2.2)\n",
      "Requirement already satisfied: asttokens in c:\\users\\dangn\\appdata\\local\\programs\\python\\python310\\lib\\site-packages (from stack-data->ipython>=6.1.0->ipywidgets) (2.0.5)\n",
      "Requirement already satisfied: pywin32>=1.0 in c:\\users\\dangn\\appdata\\local\\programs\\python\\python310\\lib\\site-packages (from jupyter-core>=4.9.2->jupyter-client>=6.1.12->ipykernel>=4.5.1->ipywidgets) (304)\n",
      "Requirement already satisfied: six>=1.5 in c:\\users\\dangn\\appdata\\local\\programs\\python\\python310\\lib\\site-packages (from python-dateutil>=2.8.2->jupyter-client>=6.1.12->ipykernel>=4.5.1->ipywidgets) (1.16.0)\n"
     ]
    },
    {
     "name": "stderr",
     "output_type": "stream",
     "text": [
      "WARNING: There was an error checking the latest version of pip.\n",
      "Installing C:\\Users\\dangn\\AppData\\Local\\Programs\\Python\\Python310\\lib\\site-packages\\fileupload\\static -> fileupload\n",
      "Up to date: C:\\Users\\dangn\\AppData\\Roaming\\jupyter\\nbextensions\\fileupload\\extension.js\n",
      "Up to date: C:\\Users\\dangn\\AppData\\Roaming\\jupyter\\nbextensions\\fileupload\\widget.js\n",
      "Up to date: C:\\Users\\dangn\\AppData\\Roaming\\jupyter\\nbextensions\\fileupload\\fileupload\\widget.js\n",
      "- Validating: ok\n",
      "\n",
      "    To initialize this nbextension in the browser every time the notebook (or other app) loads:\n",
      "    \n",
      "          jupyter nbextension enable fileupload --user --py\n",
      "    \n",
      "Enabling notebook extension fileupload/extension...\n",
      "      - Validating: ok\n"
     ]
    }
   ],
   "source": [
    "# Here are all the installs and imports you will need for your word cloud script and uploader widget\n",
    "!pip install wordcloud\n",
    "!pip install fileupload\n",
    "!pip install ipywidgets\n",
    "!jupyter nbextension install --py --user fileupload\n",
    "!jupyter nbextension enable --py fileupload\n",
    "\n",
    "import wordcloud\n",
    "import numpy as np\n",
    "from matplotlib import pyplot as plt\n",
    "from IPython.display import display\n",
    "import fileupload\n",
    "import io\n",
    "import sys"
   ]
  },
  {
   "cell_type": "code",
   "execution_count": 6,
   "id": "232b3ef7",
   "metadata": {},
   "outputs": [
    {
     "data": {
      "application/vnd.jupyter.widget-view+json": {
       "model_id": "aff41fc068da44688598cc14b5ef9102",
       "version_major": 2,
       "version_minor": 0
      },
      "text/plain": [
       "FileUploadWidget(label='Browse', _dom_classes=('widget_item', 'btn-group'))"
      ]
     },
     "metadata": {},
     "output_type": "display_data"
    }
   ],
   "source": [
    "# This is the uploader widget\n",
    "\n",
    "def _upload():\n",
    "\n",
    "    _upload_widget = fileupload.FileUploadWidget()\n",
    "\n",
    "    def _cb(change):\n",
    "        global file_contents\n",
    "        decoded = io.StringIO(change['owner'].data.decode('utf-8'))\n",
    "        filename = change['owner'].filename\n",
    "        print('Uploaded `{}` ({:.2f} kB)'.format(\n",
    "            filename, len(decoded.read()) / 2 **10))\n",
    "        file_contents = decoded.getvalue()\n",
    "\n",
    "    _upload_widget.observe(_cb, names='data')\n",
    "    display(_upload_widget)\n",
    "\n",
    "_upload()"
   ]
  },
  {
   "cell_type": "code",
   "execution_count": 10,
   "id": "5d83824d",
   "metadata": {},
   "outputs": [],
   "source": [
    "def calculate_frequencies(file_contents):\n",
    "    # Here is a list of punctuations and uninteresting words you can use to process your text\n",
    "    punctuations = '''!()-[]{};:'\"\\,<>./?@#$%^&*_~'''\n",
    "    uninteresting_words = [\"the\", \"a\", \"to\", \"if\", \"is\", \"it\", \"of\", \"and\", \"or\", \"an\", \"as\", \"i\", \"me\", \"my\", \\\n",
    "    \"we\", \"our\", \"ours\", \"you\", \"your\", \"yours\", \"he\", \"she\", \"him\", \"his\", \"her\", \"hers\", \"its\", \"they\", \"them\", \\\n",
    "    \"their\", \"what\", \"which\", \"who\", \"whom\", \"this\", \"that\", \"am\", \"are\", \"was\", \"were\", \"be\", \"been\", \"being\", \\\n",
    "    \"have\", \"has\", \"had\", \"do\", \"does\", \"did\", \"but\", \"at\", \"by\", \"with\", \"from\", \"here\", \"when\", \"where\", \"how\", \\\n",
    "    \"all\", \"any\", \"both\", \"each\", \"few\", \"more\", \"some\", \"such\", \"no\", \"nor\", \"too\", \"very\", \"can\", \"will\", \"just\"]\n",
    "    \n",
    "    # LEARNER CODE START HERE\n",
    "    frequencies =  {}\n",
    "    taken = []\n",
    "    for letter in punctuations:\n",
    "        file_contents =  file_contents.replace(letter,'')\n",
    "    for word in uninteresting_words:\n",
    "        w = ' '+word+' '\n",
    "        file_contents = file_contents.replace(w,' ')\n",
    "    for word in file_contents.split():\n",
    "        if word.lower() not in taken:\n",
    "            taken.append(word.lower())\n",
    "            if word not in frequencies:\n",
    "                frequencies[word] = 1\n",
    "            else:\n",
    "                frequencies[word] += 1\n",
    "    #wordcloud\n",
    "    cloud = wordcloud.WordCloud()\n",
    "    cloud.generate_from_frequencies(frequencies)\n",
    "    return cloud.to_array()"
   ]
  },
  {
   "cell_type": "code",
   "execution_count": 11,
   "id": "098aec71",
   "metadata": {},
   "outputs": [
    {
     "ename": "NameError",
     "evalue": "name 'file_contents' is not defined",
     "output_type": "error",
     "traceback": [
      "\u001b[1;31m---------------------------------------------------------------------------\u001b[0m",
      "\u001b[1;31mNameError\u001b[0m                                 Traceback (most recent call last)",
      "Input \u001b[1;32mIn [11]\u001b[0m, in \u001b[0;36m<cell line: 3>\u001b[1;34m()\u001b[0m\n\u001b[0;32m      1\u001b[0m \u001b[38;5;66;03m# Display your wordcloud image\u001b[39;00m\n\u001b[1;32m----> 3\u001b[0m myimage \u001b[38;5;241m=\u001b[39m calculate_frequencies(\u001b[43mfile_contents\u001b[49m)\n\u001b[0;32m      4\u001b[0m plt\u001b[38;5;241m.\u001b[39mimshow(myimage, interpolation \u001b[38;5;241m=\u001b[39m \u001b[38;5;124m'\u001b[39m\u001b[38;5;124mnearest\u001b[39m\u001b[38;5;124m'\u001b[39m)\n\u001b[0;32m      5\u001b[0m plt\u001b[38;5;241m.\u001b[39maxis(\u001b[38;5;124m'\u001b[39m\u001b[38;5;124moff\u001b[39m\u001b[38;5;124m'\u001b[39m)\n",
      "\u001b[1;31mNameError\u001b[0m: name 'file_contents' is not defined"
     ]
    }
   ],
   "source": [
    "# Display your wordcloud image\n",
    "\n",
    "myimage = calculate_frequencies(file_contents)\n",
    "plt.imshow(myimage, interpolation = 'nearest')\n",
    "plt.axis('off')\n",
    "plt.show()"
   ]
  },
  {
   "cell_type": "code",
   "execution_count": null,
   "id": "493b60ef",
   "metadata": {},
   "outputs": [],
   "source": []
  },
  {
   "cell_type": "code",
   "execution_count": null,
   "id": "d6b1f37a",
   "metadata": {},
   "outputs": [],
   "source": []
  }
 ],
 "metadata": {
  "kernelspec": {
   "display_name": "Python 3 (ipykernel)",
   "language": "python",
   "name": "python3"
  },
  "language_info": {
   "codemirror_mode": {
    "name": "ipython",
    "version": 3
   },
   "file_extension": ".py",
   "mimetype": "text/x-python",
   "name": "python",
   "nbconvert_exporter": "python",
   "pygments_lexer": "ipython3",
   "version": "3.10.4"
  }
 },
 "nbformat": 4,
 "nbformat_minor": 5
}
