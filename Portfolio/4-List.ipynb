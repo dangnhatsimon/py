{
 "cells": [
  {
   "cell_type": "code",
   "execution_count": 1,
   "id": "adb23f63",
   "metadata": {},
   "outputs": [
    {
     "name": "stdout",
     "output_type": "stream",
     "text": [
      "['program.c', 'stdio.h', 'sample.h', 'a.out', 'math.h', 'hpp.out']\n"
     ]
    }
   ],
   "source": [
    "# Fill in the blank using any of the methods you’ve learned thus far, like a for loop or a list comprehension. \n",
    "# With the given list of \"filenames\", this code should rename all files with the extension .hpp to the extension .h.\n",
    "filenames = [\"program.c\", \"stdio.hpp\", \"sample.hpp\", \"a.out\", \"math.hpp\", \"hpp.out\"]\n",
    "# Generate newfilenames as a list containing the new filenames\n",
    "# using as many lines of code as your chosen method requires.\n",
    "newfilenames=[]\n",
    "for filename in filenames:\n",
    "    if filename.endswith('.hpp'):\n",
    "        index = filename.index('.hpp')\n",
    "        newfilenames.append(filename[:index]+'.'+'h')\n",
    "    else:\n",
    "        newfilenames.append(filename)\n",
    "print(newfilenames) \n",
    "# Should be [\"program.c\", \"stdio.h\", \"sample.h\", \"a.out\", \"math.h\", \"hpp.out\"]"
   ]
  },
  {
   "cell_type": "code",
   "execution_count": 2,
   "id": "d19117f7",
   "metadata": {},
   "outputs": [
    {
     "name": "stdout",
     "output_type": "stream",
     "text": [
      "ellohay owhay reaay ouyay\n",
      "rogrammingpay niay ythonpay siay unfay\n"
     ]
    }
   ],
   "source": [
    "# Create a function that turns text into pig latin. Pig latin is a simple text transformation that modifies each word by: \n",
    "# moving the first character to the end of each word;\n",
    "# then appending the letters \"ay\" to the end of each word. \n",
    "def pig_latin(text):\n",
    "  say = []\n",
    "  # Separate the text into words\n",
    "  words = text.split()\n",
    "  for word in words:\n",
    "    # Create the pig latin word and add it to the list\n",
    "    word = word[1:]+word[0]+'ay'\n",
    "    say.append(word)\n",
    "    # Turn the list back into a phrase\n",
    "  return ' '.join(say)\n",
    "    \n",
    "print(pig_latin(\"hello how are you\")) # Should be \"ellohay owhay reaay ouyay\"\n",
    "print(pig_latin(\"programming in python is fun\")) # Should be \"rogrammingpay niay ythonpay siay unfay\""
   ]
  },
  {
   "cell_type": "code",
   "execution_count": 3,
   "id": "363c9c2d",
   "metadata": {},
   "outputs": [
    {
     "name": "stdout",
     "output_type": "stream",
     "text": [
      "Ira is 30 years old and works as Chef\n",
      "Raj is 35 years old and works as Lawyer\n",
      "Maria is 25 years old and works as Engineer\n"
     ]
    }
   ],
   "source": [
    "def biography_list(people):\n",
    "    # Iterate over each \"person\" in the given \"people\" list of tuples. \n",
    "    for person in people:\n",
    "\n",
    "        # Separate the 3 items in each tuple into 3 variables:\n",
    "        # \"name\", \"age\", and \"profession\"   \n",
    "        name, age, profession = person\n",
    "\n",
    "        # Format the required sentence and place the 3 variables \n",
    "        # in the correct placeholders using the .format() method.\n",
    "        print(\"{} is {} years old and works as {}\".format(name,age,profession))\n",
    "\n",
    "\n",
    "# Call to the function:\n",
    "biography_list([('Ira', 30, 'Chef'), ('Raj', 35, 'Lawyer'), ('Maria', 25, 'Engineer')])\n",
    "\n",
    "# Click Run to submit code\n",
    "\n",
    "# Output should match:\n",
    "# Ken is 30 years old and works as a Chef\n",
    "# Pat is 35 years old and works as a Lawyer\n",
    "# Amanda is 25 years old and works as an Engineer\n"
   ]
  },
  {
   "cell_type": "code",
   "execution_count": null,
   "id": "fdb7aa9a",
   "metadata": {},
   "outputs": [],
   "source": []
  }
 ],
 "metadata": {
  "kernelspec": {
   "display_name": "Python 3 (ipykernel)",
   "language": "python",
   "name": "python3"
  },
  "language_info": {
   "codemirror_mode": {
    "name": "ipython",
    "version": 3
   },
   "file_extension": ".py",
   "mimetype": "text/x-python",
   "name": "python",
   "nbconvert_exporter": "python",
   "pygments_lexer": "ipython3",
   "version": "3.10.4"
  }
 },
 "nbformat": 4,
 "nbformat_minor": 5
}
