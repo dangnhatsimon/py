{
 "cells": [
  {
   "cell_type": "code",
   "execution_count": 1,
   "id": "ae251683",
   "metadata": {},
   "outputs": [
    {
     "name": "stdout",
     "output_type": "stream",
     "text": [
      "Hello, nhat\n"
     ]
    }
   ],
   "source": [
    "#!/usr/bin/env python3\n",
    "name=input(\"Please enter your name: \")\n",
    "print(\"Hello, \"+ name)"
   ]
  },
  {
   "cell_type": "code",
   "execution_count": 3,
   "id": "9adc80a5",
   "metadata": {},
   "outputs": [
    {
     "name": "stdout",
     "output_type": "stream",
     "text": [
      "Welcome to this time converter\n",
      "That’s 3723 seconds\n",
      "\n",
      "That’s 10921 seconds\n",
      "\n",
      "Good bye!\n"
     ]
    }
   ],
   "source": [
    "#!/usr/bin/env python3\n",
    "def to_seconds(hours, minutes, seconds):\n",
    "    return hours*3600+minutes*60+seconds\n",
    "print(\"Welcome to this time converter\")\n",
    "cont = \"y\"\n",
    "while (cont.lower() == \"y\"):\n",
    "    hours = int(input(\"Enter the number of hours: \"))\n",
    "    minutes=int(input(\"Enter the number of minutes: \"))\n",
    "    seconds=int(input(\"Enter the number of seconds: \"))\n",
    "    print(\"That’s {} seconds\".format(to_seconds(hours, minutes, seconds)))\n",
    "    print()\n",
    "    cont= input(\"Do you want to do another conversion? [y to continue] \")\n",
    "print(\"Good bye!\")"
   ]
  },
  {
   "cell_type": "code",
   "execution_count": 5,
   "id": "5804c034",
   "metadata": {},
   "outputs": [
    {
     "ename": "TypeError",
     "evalue": "'method' object is not subscriptable",
     "output_type": "error",
     "traceback": [
      "\u001b[1;31m---------------------------------------------------------------------------\u001b[0m",
      "\u001b[1;31mTypeError\u001b[0m                                 Traceback (most recent call last)",
      "Cell \u001b[1;32mIn[5], line 2\u001b[0m\n\u001b[0;32m      1\u001b[0m \u001b[38;5;28;01mimport\u001b[39;00m \u001b[38;5;21;01mos\u001b[39;00m\n\u001b[1;32m----> 2\u001b[0m home \u001b[38;5;241m=\u001b[39m \u001b[43mos\u001b[49m\u001b[38;5;241;43m.\u001b[39;49m\u001b[43menviron\u001b[49m\u001b[38;5;241;43m.\u001b[39;49m\u001b[43mget\u001b[49m\u001b[43m[\u001b[49m\u001b[38;5;124;43m'\u001b[39;49m\u001b[38;5;124;43mHOME\u001b[39;49m\u001b[38;5;124;43m'\u001b[39;49m\u001b[43m]\u001b[49m\n\u001b[0;32m      3\u001b[0m \u001b[38;5;28mprint\u001b[39m(\u001b[38;5;124m\"\u001b[39m\u001b[38;5;124mHOME:\u001b[39m\u001b[38;5;124m\"\u001b[39m, home)\n",
      "\u001b[1;31mTypeError\u001b[0m: 'method' object is not subscriptable"
     ]
    }
   ],
   "source": [
    "import os\n",
    "home = os.environ.get['HOME']\n",
    "print(\"HOME:\", home)\n"
   ]
  },
  {
   "cell_type": "code",
   "execution_count": 7,
   "id": "51831560",
   "metadata": {},
   "outputs": [
    {
     "name": "stdout",
     "output_type": "stream",
     "text": [
      "Error, the file-f already exists\n"
     ]
    },
    {
     "ename": "SystemExit",
     "evalue": "1",
     "output_type": "error",
     "traceback": [
      "An exception has occurred, use %tb to see the full traceback.\n",
      "\u001b[1;31mSystemExit\u001b[0m\u001b[1;31m:\u001b[0m 1\n"
     ]
    },
    {
     "name": "stderr",
     "output_type": "stream",
     "text": [
      "C:\\ProgramData\\anaconda3\\lib\\site-packages\\IPython\\core\\interactiveshell.py:3468: UserWarning: To exit: use 'exit', 'quit', or Ctrl-D.\n",
      "  warn(\"To exit: use 'exit', 'quit', or Ctrl-D.\", stacklevel=1)\n"
     ]
    }
   ],
   "source": [
    "import os\n",
    "import sys\n",
    "filename=sys.argv[1]\n",
    "if not os.path.exists(filename):\n",
    "    with open(filename, \"w\") as f:\n",
    "        f.write(\"New file created\\n\")\n",
    "else:\n",
    "    print(\"Error, the file{} already exists\".format(filename))\n",
    "    sys.exit(1)\n"
   ]
  },
  {
   "cell_type": "code",
   "execution_count": 8,
   "id": "d6a61036",
   "metadata": {},
   "outputs": [
    {
     "name": "stdout",
     "output_type": "stream",
     "text": [
      "['C:\\\\ProgramData\\\\anaconda3\\\\lib\\\\site-packages\\\\ipykernel_launcher.py', '-f', 'C:\\\\Users\\\\DE01\\\\AppData\\\\Roaming\\\\jupyter\\\\runtime\\\\kernel-adf70f9d-d8de-4acb-82eb-6f1676eb85c6.json']\n"
     ]
    }
   ],
   "source": [
    "import sys\n",
    "print(sys.argv)\n"
   ]
  },
  {
   "cell_type": "code",
   "execution_count": null,
   "id": "bc079e67",
   "metadata": {},
   "outputs": [],
   "source": [
    "print(wc)"
   ]
  }
 ],
 "metadata": {
  "kernelspec": {
   "display_name": "Python 3 (ipykernel)",
   "language": "python",
   "name": "python3"
  },
  "language_info": {
   "codemirror_mode": {
    "name": "ipython",
    "version": 3
   },
   "file_extension": ".py",
   "mimetype": "text/x-python",
   "name": "python",
   "nbconvert_exporter": "python",
   "pygments_lexer": "ipython3",
   "version": "3.10.9"
  }
 },
 "nbformat": 4,
 "nbformat_minor": 5
}
