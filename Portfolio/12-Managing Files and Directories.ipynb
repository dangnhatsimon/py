{
 "cells": [
  {
   "cell_type": "code",
   "execution_count": 3,
   "id": "c0d3f744",
   "metadata": {},
   "outputs": [
    {
     "data": {
      "text/plain": [
       "True"
      ]
     },
     "execution_count": 3,
     "metadata": {},
     "output_type": "execute_result"
    }
   ],
   "source": [
    "import os\n",
    "os.path.exists('guests.txt')"
   ]
  },
  {
   "cell_type": "code",
   "execution_count": 4,
   "id": "9cdf8f89",
   "metadata": {},
   "outputs": [
    {
     "data": {
      "text/plain": [
       "34"
      ]
     },
     "execution_count": 4,
     "metadata": {},
     "output_type": "execute_result"
    }
   ],
   "source": [
    "os.path.getsize('guests.txt')"
   ]
  },
  {
   "cell_type": "code",
   "execution_count": 5,
   "id": "5e4eb9b3",
   "metadata": {},
   "outputs": [
    {
     "data": {
      "text/plain": [
       "1679284082.5910788"
      ]
     },
     "execution_count": 5,
     "metadata": {},
     "output_type": "execute_result"
    }
   ],
   "source": [
    "os.path.getmtime('guests.txt')"
   ]
  },
  {
   "cell_type": "code",
   "execution_count": 6,
   "id": "557cdffc",
   "metadata": {},
   "outputs": [
    {
     "data": {
      "text/plain": [
       "datetime.datetime(2023, 3, 20, 10, 48, 2, 591079)"
      ]
     },
     "execution_count": 6,
     "metadata": {},
     "output_type": "execute_result"
    }
   ],
   "source": [
    "import datetime\n",
    "timestamp = os.path.getmtime('guests.txt')\n",
    "datetime.datetime.fromtimestamp(timestamp)"
   ]
  },
  {
   "cell_type": "code",
   "execution_count": 18,
   "id": "d3767bd2",
   "metadata": {},
   "outputs": [
    {
     "name": "stdout",
     "output_type": "stream",
     "text": [
      "D:\\Data Analytics\\Python\n"
     ]
    }
   ],
   "source": [
    "print(os.getcwd())"
   ]
  },
  {
   "cell_type": "code",
   "execution_count": 21,
   "id": "4a037d46",
   "metadata": {},
   "outputs": [],
   "source": [
    "os.mkdir('new_dir')"
   ]
  },
  {
   "cell_type": "code",
   "execution_count": 17,
   "id": "2e18b39b",
   "metadata": {},
   "outputs": [
    {
     "data": {
      "text/plain": [
       "'D:\\\\Data Analytics\\\\Python'"
      ]
     },
     "execution_count": 17,
     "metadata": {},
     "output_type": "execute_result"
    }
   ],
   "source": [
    "os.chdir(\"D:\\Data Analytics\\Python\")\n",
    "os.getcwd()"
   ]
  },
  {
   "cell_type": "code",
   "execution_count": 22,
   "id": "32bba9ec",
   "metadata": {},
   "outputs": [],
   "source": [
    "os.mkdir('newer_dir')"
   ]
  },
  {
   "cell_type": "code",
   "execution_count": 23,
   "id": "c8c37df7",
   "metadata": {},
   "outputs": [],
   "source": [
    "os.rmdir(\"newer_dir\")"
   ]
  },
  {
   "cell_type": "code",
   "execution_count": 24,
   "id": "3c7c6a53",
   "metadata": {},
   "outputs": [
    {
     "data": {
      "text/plain": [
       "['.ipynb_checkpoints',\n",
       " '1-Basic.ipynb',\n",
       " '10-WordCloud.ipynb',\n",
       " '11-Reading and Writing files.ipynb',\n",
       " '12-Managing Files and Directories.ipynb',\n",
       " '2-Loops.ipynb',\n",
       " '3-String.ipynb',\n",
       " '4-List.ipynb',\n",
       " '5-Dictionaries.ipynb',\n",
       " '6-OOP.ipynb',\n",
       " '7-Methods and Classes.ipynb',\n",
       " '8-Code reuse.ipynb',\n",
       " '9-Events.ipynb',\n",
       " 'Automating tasks.ipynb',\n",
       " 'Books',\n",
       " 'file_contents.txt',\n",
       " 'guests.txt',\n",
       " 'new_dir',\n",
       " 'Videos',\n",
       " 'wordcloud-1.8.1-cp39-cp39-win32.whl',\n",
       " 'wordcloud-1.8.1-cp39-cp39-win_amd64.whl']"
      ]
     },
     "execution_count": 24,
     "metadata": {},
     "output_type": "execute_result"
    }
   ],
   "source": [
    "os.listdir('D:\\Data Analytics\\Python')"
   ]
  },
  {
   "cell_type": "code",
   "execution_count": 25,
   "id": "b6a5fe9f",
   "metadata": {},
   "outputs": [
    {
     "name": "stdout",
     "output_type": "stream",
     "text": [
      "D:\\Data Analytics\\Python\\.ipynb_checkpoints is a directory\n",
      "D:\\Data Analytics\\Python\\1-Basic.ipynb is a file\n",
      "D:\\Data Analytics\\Python\\10-WordCloud.ipynb is a file\n",
      "D:\\Data Analytics\\Python\\11-Reading and Writing files.ipynb is a file\n",
      "D:\\Data Analytics\\Python\\12-Managing Files and Directories.ipynb is a file\n",
      "D:\\Data Analytics\\Python\\2-Loops.ipynb is a file\n",
      "D:\\Data Analytics\\Python\\3-String.ipynb is a file\n",
      "D:\\Data Analytics\\Python\\4-List.ipynb is a file\n",
      "D:\\Data Analytics\\Python\\5-Dictionaries.ipynb is a file\n",
      "D:\\Data Analytics\\Python\\6-OOP.ipynb is a file\n",
      "D:\\Data Analytics\\Python\\7-Methods and Classes.ipynb is a file\n",
      "D:\\Data Analytics\\Python\\8-Code reuse.ipynb is a file\n",
      "D:\\Data Analytics\\Python\\9-Events.ipynb is a file\n",
      "D:\\Data Analytics\\Python\\Automating tasks.ipynb is a file\n",
      "D:\\Data Analytics\\Python\\Books is a directory\n",
      "D:\\Data Analytics\\Python\\file_contents.txt is a file\n",
      "D:\\Data Analytics\\Python\\guests.txt is a file\n",
      "D:\\Data Analytics\\Python\\new_dir is a directory\n",
      "D:\\Data Analytics\\Python\\Videos is a directory\n",
      "D:\\Data Analytics\\Python\\wordcloud-1.8.1-cp39-cp39-win32.whl is a file\n",
      "D:\\Data Analytics\\Python\\wordcloud-1.8.1-cp39-cp39-win_amd64.whl is a file\n"
     ]
    }
   ],
   "source": [
    "dir = \"D:\\Data Analytics\\Python\"\n",
    "for name in os.listdir(dir):\n",
    "    fullname=os.path.join(dir,name)\n",
    "    if os.path.isdir(fullname):\n",
    "        print(\"{} is a directory\".format(fullname))\n",
    "    else:\n",
    "        print(\"{} is a file\".format(fullname))"
   ]
  },
  {
   "cell_type": "code",
   "execution_count": 1,
   "id": "36d12c05",
   "metadata": {},
   "outputs": [
    {
     "name": "stdout",
     "output_type": "stream",
     "text": [
      "# Start of a new Python program\n",
      "31\n"
     ]
    }
   ],
   "source": [
    "#creates a new python script in the current working directory, adds the line of comments to it declared  by the 'comments' variable, \n",
    "#and returns the size of the new file\n",
    "import os\n",
    "def create_python_script(filename):\n",
    "  comments = \"# Start of a new Python program\"\n",
    "  with open (filename,\"w\") as file:\n",
    "    file.write(comments)\n",
    "    print(comments)\n",
    "  filesize = os.path.getsize(filename)\n",
    "  return(filesize)\n",
    "\n",
    "print(create_python_script(\"program.py\"))"
   ]
  },
  {
   "cell_type": "code",
   "execution_count": 2,
   "id": "0e879c18",
   "metadata": {},
   "outputs": [
    {
     "name": "stdout",
     "output_type": "stream",
     "text": [
      "['script.py']\n"
     ]
    }
   ],
   "source": [
    "#creates a new directory inside the current working directory, \n",
    "#then creates a new empty file inside the new directory, and returns the list of files in that directory.\n",
    "import os\n",
    "\n",
    "def new_directory(directory, filename):\n",
    "  # Before creating a new directory, check to see if it already exists\n",
    "  if os.path.isdir(directory) == False:\n",
    "    os.mkdir(directory)\n",
    "\n",
    "  # Create the new file inside of the new directory\n",
    "  os.chdir(directory)\n",
    "  with open (filename, \"w\") as file:\n",
    "    pass\n",
    "  os.chdir(\"..\")\n",
    "  # Return the list of files in the new directory\n",
    "  return os.listdir(directory)\n",
    "\n",
    "print(new_directory(\"PythonPrograms\", \"script.py\"))"
   ]
  },
  {
   "cell_type": "code",
   "execution_count": 5,
   "id": "11d9205e",
   "metadata": {},
   "outputs": [
    {
     "name": "stdout",
     "output_type": "stream",
     "text": [
      "2023-03-23\n"
     ]
    }
   ],
   "source": [
    "#creates a new file in the current working directory, checks the date that the file was modified, \n",
    "#and returns just the date portion of the timestamp in the format of yyyy-mm-dd.\n",
    "import os\n",
    "import datetime\n",
    "\n",
    "\n",
    "def file_date(filename):\n",
    "  # Create the file in the current directory\n",
    "  with open (filename, \"w\") as file:\n",
    "    pass\n",
    "  timestamp = os.path.getmtime(filename)\n",
    "  # Convert the timestamp into a readable format, then into a string\n",
    "  d=datetime.datetime.fromtimestamp(timestamp).date()\n",
    "  # Return just the date portion \n",
    "  # Hint: how many characters are in “yyyy-mm-dd”? \n",
    "  return (\"{}\".format(d))\n",
    "\n",
    "print(file_date(\"newfile.txt\")) \n",
    "# Should be today's date in the format of yyyy-mm-dd"
   ]
  },
  {
   "cell_type": "code",
   "execution_count": 4,
   "id": "a8d4f7d7",
   "metadata": {},
   "outputs": [
    {
     "data": {
      "text/plain": [
       "'2023-03-20 10:48:02.591079'"
      ]
     },
     "execution_count": 4,
     "metadata": {},
     "output_type": "execute_result"
    }
   ],
   "source": [
    "import datetime\n",
    "timestamp = os.path.getmtime(\"guests.txt\")\n",
    "d=datetime.datetime.fromtimestamp(timestamp)\n",
    "str(d)"
   ]
  },
  {
   "cell_type": "code",
   "execution_count": 6,
   "id": "a4d920a3",
   "metadata": {},
   "outputs": [
    {
     "name": "stdout",
     "output_type": "stream",
     "text": [
      "D:\\Data Analytics\n"
     ]
    }
   ],
   "source": [
    "#The parent_directory function returns the name of the directory that's located just above the current working directory.\n",
    "import os\n",
    "def parent_directory():\n",
    "  # Create a relative path to the parent \n",
    "  # of the current working directory \n",
    "  relative_parent = os.path.join(os.getcwd(),'..')\n",
    "\n",
    "  # Return the absolute path of the parent directory\n",
    "  return os.path.abspath(relative_parent)\n",
    "\n",
    "print(parent_directory())"
   ]
  },
  {
   "cell_type": "code",
   "execution_count": 10,
   "id": "62902e89",
   "metadata": {},
   "outputs": [
    {
     "name": "stdout",
     "output_type": "stream",
     "text": [
      "None\n"
     ]
    }
   ],
   "source": [
    "relative_parent = os.chdir('..')\n",
    "print(relative_parent)"
   ]
  },
  {
   "cell_type": "code",
   "execution_count": 11,
   "id": "c2ee5a32",
   "metadata": {},
   "outputs": [
    {
     "data": {
      "text/plain": [
       "'D:\\\\'"
      ]
     },
     "execution_count": 11,
     "metadata": {},
     "output_type": "execute_result"
    }
   ],
   "source": [
    "os.getcwd()"
   ]
  },
  {
   "cell_type": "code",
   "execution_count": null,
   "id": "110bee1d",
   "metadata": {},
   "outputs": [],
   "source": []
  }
 ],
 "metadata": {
  "kernelspec": {
   "display_name": "Python 3 (ipykernel)",
   "language": "python",
   "name": "python3"
  },
  "language_info": {
   "codemirror_mode": {
    "name": "ipython",
    "version": 3
   },
   "file_extension": ".py",
   "mimetype": "text/x-python",
   "name": "python",
   "nbconvert_exporter": "python",
   "pygments_lexer": "ipython3",
   "version": "3.10.9"
  }
 },
 "nbformat": 4,
 "nbformat_minor": 5
}
