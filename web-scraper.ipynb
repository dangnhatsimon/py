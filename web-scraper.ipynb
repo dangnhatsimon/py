{
 "cells": [
  {
   "cell_type": "code",
   "execution_count": 27,
   "id": "5d6835d2",
   "metadata": {},
   "outputs": [],
   "source": [
    "# import necessary libraries\n",
    "import requests\n",
    "from bs4 import BeautifulSoup\n",
    "import pandas as pd\n",
    "\n",
    "\n",
    "# define website\n",
    "url='https://www.realestate.com.au/sold/in-pyrmont,+nsw+2009/list-1?activeSort=solddate&sourcePage=rea:homepage&sourceElement=suburb-select:recent%20searches%20tiles'\n",
    "headers = {'User-Agent': 'Mozilla/5.0 (Windows NT 10.0; Win64; x64) AppleWebKit/537.36 (KHTML, like Gecko) Chrome/118.0.0.0 Safari/537.36'}\n",
    "response=requests.get(url=url,headers=headers)\n",
    "soup = BeautifulSoup(response.content, \"html.parser\")"
   ]
  },
  {
   "cell_type": "code",
   "execution_count": 10,
   "id": "6191732c",
   "metadata": {},
   "outputs": [
    {
     "ename": "AttributeError",
     "evalue": "'NoneType' object has no attribute 'content'",
     "output_type": "error",
     "traceback": [
      "\u001b[1;31m---------------------------------------------------------------------------\u001b[0m",
      "\u001b[1;31mAttributeError\u001b[0m                            Traceback (most recent call last)",
      "Cell \u001b[1;32mIn[10], line 15\u001b[0m\n\u001b[0;32m     13\u001b[0m             \u001b[38;5;28;01mreturn\u001b[39;00m \u001b[38;5;28;01mNone\u001b[39;00m\n\u001b[0;32m     14\u001b[0m response \u001b[38;5;241m=\u001b[39m make_request(url)\n\u001b[1;32m---> 15\u001b[0m soup \u001b[38;5;241m=\u001b[39m BeautifulSoup(\u001b[43mresponse\u001b[49m\u001b[38;5;241;43m.\u001b[39;49m\u001b[43mcontent\u001b[49m, \u001b[38;5;124m\"\u001b[39m\u001b[38;5;124mhtml.parser\u001b[39m\u001b[38;5;124m\"\u001b[39m)\n",
      "\u001b[1;31mAttributeError\u001b[0m: 'NoneType' object has no attribute 'content'"
     ]
    }
   ],
   "source": [
    "# Implement a function to handle requests with retries\n",
    "def make_request(url, max_retries=3):\n",
    "    for _ in range(max_retries):\n",
    "        response = requests.get(url=url,headers=headers)\n",
    "        if response.status_code == 200:\n",
    "            return response\n",
    "        elif response.status_code == 429:\n",
    "            # If rate-limited, wait and then retry\n",
    "            time.sleep(5)  # Adjust the delay as needed\n",
    "        else:\n",
    "            print(f\"Failed with status code: {response.status_code}\")\n",
    "            return None\n",
    "response = make_request(url)\n",
    "soup = BeautifulSoup(response.content, \"html.parser\")"
   ]
  },
  {
   "cell_type": "code",
   "execution_count": 3,
   "id": "f118d1cf",
   "metadata": {},
   "outputs": [
    {
     "name": "stdout",
     "output_type": "stream",
     "text": [
      "Empty DataFrame\n",
      "Columns: []\n",
      "Index: []\n"
     ]
    }
   ],
   "source": [
    "# Check status of response website\n",
    "def scrape_property_data(url):\n",
    "    response=requests.get(url)\n",
    "    if response.status_code !=200:\n",
    "        return None\n",
    "    soup = BeautifulSoup(response.content, \"html.parser\")\n",
    "    address = soup.find('span')\n",
    "    property_data = []\n",
    "    property_list = soup.find_all(\"div\", class_=\"residential-card__content\")\n",
    "    for property_item in property_list:\n",
    "        address = property_item.find(\"span\", class_=\"residential-card__address-heading\").text.strip()\n",
    "        sale_date = property_item.find(\"div\", class_=\"PropertyCardLayout__StyledPipedContent-sc-1qkhjdh-0 dgCHTg\").text.strip()\n",
    "        amount = property_item.find(\"div\", class_=\"residential-card__price\").text.strip()\n",
    "        if \"Contact Agent\" in amount:\n",
    "            amount = None\n",
    "        num_bedrooms = property_item.find(\"div\", class_=\"View__PropertyDetail-sc-11ysrk6-0 eSRWKr\").text.strip()\n",
    "        num_bathrooms = property_item.find(\"div\", class_=\"View__PropertyDetail-sc-11ysrk6-0 eSRWKr\").text.strip()\n",
    "        property_type = \"Apartment\"\n",
    "        \n",
    "        property_data.append({\n",
    "            \"Address\": address,\n",
    "            \"Sale Date\": sale_date,\n",
    "            \"Amount\": amount,\n",
    "            \"Number of Bedrooms\": num_bedrooms,\n",
    "            \"Number of Bathrooms\": num_bathrooms,\n",
    "            \"Type\": property_type\n",
    "        })\n",
    "    \n",
    "    return property_data\n",
    "\n",
    "# Scrape data from the base URL\n",
    "property_data = scrape_property_data(url)\n",
    "\n",
    "# Create a DataFrame from the scraped data\n",
    "df = pd.DataFrame(property_data)\n",
    "\n",
    "# Display the DataFrame\n",
    "print(df)"
   ]
  },
  {
   "cell_type": "code",
   "execution_count": 14,
   "id": "4be05496",
   "metadata": {},
   "outputs": [
    {
     "name": "stdout",
     "output_type": "stream",
     "text": [
      "[]\n"
     ]
    }
   ],
   "source": [
    "property_list = soup.find_all(\"div\", {'class':\"residential-card__content-wrapper\",'role':\"presentation\"})\n",
    "print(property_list)"
   ]
  },
  {
   "cell_type": "code",
   "execution_count": 15,
   "id": "7349d210",
   "metadata": {},
   "outputs": [
    {
     "name": "stdout",
     "output_type": "stream",
     "text": [
      "[]\n"
     ]
    }
   ],
   "source": [
    "property_list = soup.find_all(\"a\", class_=\"details-link residential-card__details-link\")\n",
    "print(property_list)"
   ]
  },
  {
   "cell_type": "code",
   "execution_count": 16,
   "id": "be4a60d0",
   "metadata": {},
   "outputs": [
    {
     "name": "stdout",
     "output_type": "stream",
     "text": [
      "\n"
     ]
    }
   ],
   "source": [
    "print(soup.text)"
   ]
  },
  {
   "cell_type": "code",
   "execution_count": 28,
   "id": "1f737d96",
   "metadata": {},
   "outputs": [
    {
     "name": "stdout",
     "output_type": "stream",
     "text": [
      "Request failed with status code: 429\n"
     ]
    }
   ],
   "source": [
    "if response.status_code == 200:\n",
    "    print(response.text)  # Print the content of the response\n",
    "else:\n",
    "    print(f'Request failed with status code: {response.status_code}')"
   ]
  },
  {
   "cell_type": "code",
   "execution_count": null,
   "id": "423bcb6a",
   "metadata": {},
   "outputs": [],
   "source": []
  }
 ],
 "metadata": {
  "kernelspec": {
   "display_name": "Python 3 (ipykernel)",
   "language": "python",
   "name": "python3"
  },
  "language_info": {
   "codemirror_mode": {
    "name": "ipython",
    "version": 3
   },
   "file_extension": ".py",
   "mimetype": "text/x-python",
   "name": "python",
   "nbconvert_exporter": "python",
   "pygments_lexer": "ipython3",
   "version": "3.10.9"
  }
 },
 "nbformat": 4,
 "nbformat_minor": 5
}
